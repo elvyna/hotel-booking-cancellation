{
 "cells": [
  {
   "cell_type": "code",
   "execution_count": 1,
   "metadata": {},
   "outputs": [],
   "source": [
    "import seaborn as sns\n",
    "import matplotlib.pyplot as plt\n",
    "import matplotlib.ticker as mtick\n",
    "import numpy as np\n",
    "import pandas as pd\n",
    "\n",
    "sns.set_context('talk')"
   ]
  },
  {
   "cell_type": "markdown",
   "metadata": {},
   "source": [
    "**Note:**\n",
    "\n",
    "Data source: [hotel demand datasets](https://ars.els-cdn.com/content/image/1-s2.0-S2352340918315191-mmc2.zip) from Antonio, et al. (2019).\n",
    "\n",
    "Paper: Antonio, N., De Almeida, A., & Nunes, L. (2019). Hotel booking demand datasets. Data in Brief, 22, 41-49. https://doi.org/10.1016/j.dib.2018.11.126"
   ]
  },
  {
   "cell_type": "code",
   "execution_count": 2,
   "metadata": {},
   "outputs": [
    {
     "name": "stderr",
     "output_type": "stream",
     "text": [
      "/home/ubuntu/spark-2.1.1-bin-hadoop2.7/python/pyspark/cloudpickle.py:365: SyntaxWarning: \"is\" with a literal. Did you mean \"==\"?\n",
      "  if obj.__module__ is \"__builtin__\":\n"
     ]
    }
   ],
   "source": [
    "import findspark\n",
    "findspark.init('/home/ubuntu/spark-2.1.1-bin-hadoop2.7')\n",
    "import pyspark\n",
    "from pyspark.sql import SparkSession\n",
    "spark = SparkSession.builder.appName('data-preparation-data-transformation').getOrCreate()"
   ]
  },
  {
   "cell_type": "markdown",
   "metadata": {},
   "source": [
    "We load the transformed data from `1-data-preparation-datatransformation.ipynb`."
   ]
  },
  {
   "cell_type": "code",
   "execution_count": 3,
   "metadata": {},
   "outputs": [
    {
     "name": "stdout",
     "output_type": "stream",
     "text": [
      "struct<IsCanceled:int,LeadTime:double,ArrivalDateWeekNumber:int,ArrivalDateDayOfMonth:int,StaysInWeekendNights:int,StaysInWeekNights:int,Adults:int,IsRepeatedGuest:boolean,PreviousCancellations:int,PreviousBookingsNotCanceled:int,DaysInWaitingList:int,ADR:double,HasChild:boolean,RequireCarPark:boolean,HasSpecialRequest:boolean,IsReservedRoomTypeEqualToAssigned:boolean,IsCityHotel:boolean,MealVector:vector,MarketSegmentVector:vector,DistributionChannelVector:vector,DepositTypeVector:vector,CustomerTypeVector:vector,IsTestSet:boolean>\n"
     ]
    }
   ],
   "source": [
    "import json\n",
    "from pyspark.sql.types import StructType\n",
    "\n",
    "## Get schema of the JSON file\n",
    "with open(\"hotel_merged_data_transformation_schema.json\") as f:\n",
    "    new_schema = StructType.fromJson(json.load(f))"
   ]
  },
  {
   "cell_type": "code",
   "execution_count": 5,
   "metadata": {},
   "outputs": [],
   "source": [
    "## Read the JSON file based on the saved schema\n",
    "df_hotel = spark.read.json('hotel_merged_data_transformation.json/',\n",
    "                          schema = new_schema)"
   ]
  },
  {
   "cell_type": "code",
   "execution_count": 4,
   "metadata": {},
   "outputs": [
    {
     "data": {
      "text/plain": [
       "141012"
      ]
     },
     "execution_count": 4,
     "metadata": {},
     "output_type": "execute_result"
    }
   ],
   "source": [
    "df_hotel.count()"
   ]
  },
  {
   "cell_type": "code",
   "execution_count": 6,
   "metadata": {},
   "outputs": [
    {
     "name": "stdout",
     "output_type": "stream",
     "text": [
      "root\n",
      " |-- IsCanceled: integer (nullable = true)\n",
      " |-- LeadTime: double (nullable = true)\n",
      " |-- ArrivalDateWeekNumber: integer (nullable = true)\n",
      " |-- ArrivalDateDayOfMonth: integer (nullable = true)\n",
      " |-- StaysInWeekendNights: integer (nullable = true)\n",
      " |-- StaysInWeekNights: integer (nullable = true)\n",
      " |-- Adults: integer (nullable = true)\n",
      " |-- IsRepeatedGuest: boolean (nullable = true)\n",
      " |-- PreviousCancellations: integer (nullable = true)\n",
      " |-- PreviousBookingsNotCanceled: integer (nullable = true)\n",
      " |-- DaysInWaitingList: integer (nullable = true)\n",
      " |-- ADR: double (nullable = true)\n",
      " |-- HasChild: boolean (nullable = true)\n",
      " |-- RequireCarPark: boolean (nullable = true)\n",
      " |-- HasSpecialRequest: boolean (nullable = true)\n",
      " |-- IsReservedRoomTypeEqualToAssigned: boolean (nullable = true)\n",
      " |-- IsCityHotel: boolean (nullable = true)\n",
      " |-- MealVector: vector (nullable = true)\n",
      " |-- MarketSegmentVector: vector (nullable = true)\n",
      " |-- DistributionChannelVector: vector (nullable = true)\n",
      " |-- DepositTypeVector: vector (nullable = true)\n",
      " |-- CustomerTypeVector: vector (nullable = true)\n",
      " |-- IsTestSet: boolean (nullable = true)\n",
      "\n"
     ]
    }
   ],
   "source": [
    "df_hotel.printSchema()"
   ]
  },
  {
   "cell_type": "markdown",
   "metadata": {},
   "source": [
    "# 5. Data Mining Method Selection\n",
    "\n",
    "Supervised learning: classification task.\n",
    "\n",
    "\n",
    "# 6. Data Mining Algorithm Selection\n",
    "\n",
    "- Logistic Regression\n",
    "- Decision Tree\n",
    "- Random Forest\n",
    "- Gradient Boosted Tree"
   ]
  },
  {
   "cell_type": "markdown",
   "metadata": {},
   "source": [
    "# 7. Data Mining\n",
    "\n",
    "## 7.1. Create and Justify Test Designs\n",
    "\n",
    "Train-validation-test. Use k-fold cross validation to estimate the performance in validation set.\n",
    "\n",
    "We use similar train-test data as we used in feature selection and random oversampling."
   ]
  },
  {
   "cell_type": "code",
   "execution_count": 21,
   "metadata": {},
   "outputs": [],
   "source": [
    "## split the dataframe based on previous train-test-split\n",
    "df_train = df_hotel.filter('IsTestSet == False').drop('IsTestSet')\n",
    "df_test = df_hotel.filter('IsTestSet == True').drop('IsTestSet')"
   ]
  },
  {
   "cell_type": "markdown",
   "metadata": {},
   "source": [
    "## 7.2. Conduct Data Mining\n",
    "\n",
    "Algorithms:\n",
    "- Logistic Regression\n",
    "- Decision Tree\n",
    "- Random Forest\n",
    "- Gradient-Boosted Tree\n",
    "\n",
    "These models are evaluated based on accuracy and AUC.\n"
   ]
  },
  {
   "cell_type": "code",
   "execution_count": 67,
   "metadata": {},
   "outputs": [],
   "source": [
    "## define k-fold cross cv\n",
    "from pyspark.ml.tuning import CrossValidator, ParamGridBuilder\n",
    "from pyspark.ml import Pipeline\n",
    "from pyspark.ml.feature import VectorAssembler\n",
    "from pyspark.ml.classification import LogisticRegression\n",
    "from pyspark.ml.evaluation import BinaryClassificationEvaluator, MulticlassClassificationEvaluator\n",
    "\n",
    "def kfold_cv(spark_df,\n",
    "             target_colname, \n",
    "             clf,\n",
    "             k = 10,\n",
    "             random_seed = 722,\n",
    "             eval_metric = 'accuracy'):\n",
    "    \"\"\"\n",
    "    Perform k-fold cross-validation using the specified classifier.\n",
    "    Return the cross-validated model.\n",
    "    \"\"\"\n",
    "    RND = 722\n",
    "    params = ParamGridBuilder().build()\n",
    "\n",
    "    assembler = VectorAssembler(\n",
    "        inputCols = [colname for colname in spark_df.columns if (colname != target_colname)],\n",
    "        outputCol = 'features'\n",
    "    )\n",
    "\n",
    "    pipeline = Pipeline(\n",
    "        stages = [assembler, clf]\n",
    "    )\n",
    "\n",
    "    cv_binary = CrossValidator(\n",
    "        estimator = pipeline,\n",
    "        estimatorParamMaps = params,\n",
    "        evaluator = BinaryClassificationEvaluator(labelCol = target_colname, metricName = 'areaUnderROC'),\n",
    "        numFolds = k,\n",
    "        seed = random_seed\n",
    "    )\n",
    "    \n",
    "    cv_multi = CrossValidator(\n",
    "        estimator = pipeline,\n",
    "        estimatorParamMaps = params,\n",
    "        evaluator = MulticlassClassificationEvaluator(labelCol = target_colname, metricName = eval_metric),\n",
    "        numFolds = k,\n",
    "        seed = random_seed\n",
    "    )\n",
    "    \n",
    "    ## Same model, but different evaluator\n",
    "    ## We only want to store the average value of the evaluation metrics\n",
    "    cv_model_binary = cv_binary.fit(spark_df)\n",
    "    cv_model_multi = cv_multi.fit(spark_df)\n",
    "    \n",
    "    print(\"AUC: {}\".format(cv_model_binary.avgMetrics))\n",
    "    print(\"Accuracy: {}\".format(cv_model_multi.avgMetrics))\n",
    "    \n",
    "    ## Only return one model (both are similar)\n",
    "    return cv_model_binary"
   ]
  },
  {
   "cell_type": "markdown",
   "metadata": {},
   "source": [
    "### Logistic Regression"
   ]
  },
  {
   "cell_type": "code",
   "execution_count": 68,
   "metadata": {},
   "outputs": [
    {
     "name": "stdout",
     "output_type": "stream",
     "text": [
      "AUC: [0.8623119248765567]\n",
      "Accuracy: [0.7699028342214574]\n"
     ]
    }
   ],
   "source": [
    "logres = LogisticRegression(maxIter = 10, labelCol = 'IsCanceled')\n",
    "\n",
    "cv_logres = kfold_cv(df_train, target_colname = 'IsCanceled', clf = logres, k = 5)"
   ]
  },
  {
   "cell_type": "code",
   "execution_count": 70,
   "metadata": {},
   "outputs": [],
   "source": [
    "from pyspark.ml.evaluation import BinaryClassificationEvaluator, MulticlassClassificationEvaluator\n",
    "\n",
    "def evaluate_performance(clf, spark_df, target_colname):\n",
    "    \"\"\"\n",
    "    Evaluate model performance on the given dataset.\n",
    "    Return the AUC and accuracy.\n",
    "    \"\"\"\n",
    "    binary_evaluator = BinaryClassificationEvaluator(labelCol = target_colname)\n",
    "    multi_evaluator = MulticlassClassificationEvaluator(\n",
    "        labelCol = target_colname,\n",
    "        metricName = 'accuracy'\n",
    "    )\n",
    "    \n",
    "    pred_df = clf.transform(spark_df)\n",
    "    print(\"AUC: {}\".format(binary_evaluator.evaluate(pred_df)))\n",
    "    print(\"Accuracy: {}\".format(multi_evaluator.evaluate(pred_df)))\n",
    "    \n",
    "    return pred_df"
   ]
  },
  {
   "cell_type": "code",
   "execution_count": 72,
   "metadata": {},
   "outputs": [
    {
     "name": "stdout",
     "output_type": "stream",
     "text": [
      "AUC: 0.862545225115018\n",
      "Accuracy: 0.7704248753857109\n"
     ]
    },
    {
     "data": {
      "text/plain": [
       "DataFrame[IsCanceled: int, LeadTime: double, ArrivalDateWeekNumber: int, ArrivalDateDayOfMonth: int, StaysInWeekendNights: int, StaysInWeekNights: int, Adults: int, IsRepeatedGuest: boolean, PreviousCancellations: int, PreviousBookingsNotCanceled: int, DaysInWaitingList: int, ADR: double, HasChild: boolean, RequireCarPark: boolean, HasSpecialRequest: boolean, IsReservedRoomTypeEqualToAssigned: boolean, IsCityHotel: boolean, MealVector: vector, MarketSegmentVector: vector, DistributionChannelVector: vector, DepositTypeVector: vector, CustomerTypeVector: vector, features: vector, rawPrediction: vector, probability: vector, prediction: double]"
      ]
     },
     "execution_count": 72,
     "metadata": {},
     "output_type": "execute_result"
    }
   ],
   "source": [
    "## On overall training set\n",
    "evaluate_performance(cv_logres, df_train, target_colname = 'IsCanceled')"
   ]
  },
  {
   "cell_type": "code",
   "execution_count": 71,
   "metadata": {},
   "outputs": [
    {
     "name": "stdout",
     "output_type": "stream",
     "text": [
      "AUC: 0.8659261022206844\n",
      "Accuracy: 0.7812648863731891\n"
     ]
    },
    {
     "data": {
      "text/plain": [
       "DataFrame[IsCanceled: int, LeadTime: double, ArrivalDateWeekNumber: int, ArrivalDateDayOfMonth: int, StaysInWeekendNights: int, StaysInWeekNights: int, Adults: int, IsRepeatedGuest: boolean, PreviousCancellations: int, PreviousBookingsNotCanceled: int, DaysInWaitingList: int, ADR: double, HasChild: boolean, RequireCarPark: boolean, HasSpecialRequest: boolean, IsReservedRoomTypeEqualToAssigned: boolean, IsCityHotel: boolean, MealVector: vector, MarketSegmentVector: vector, DistributionChannelVector: vector, DepositTypeVector: vector, CustomerTypeVector: vector, features: vector, rawPrediction: vector, probability: vector, prediction: double]"
      ]
     },
     "execution_count": 71,
     "metadata": {},
     "output_type": "execute_result"
    }
   ],
   "source": [
    "## On test set\n",
    "evaluate_performance(cv_logres, df_test, target_colname = 'IsCanceled')"
   ]
  },
  {
   "cell_type": "code",
   "execution_count": 84,
   "metadata": {},
   "outputs": [
    {
     "data": {
      "image/png": "[encoded data removed]",
      "text/plain": [
       "<Figure size 432x288 with 1 Axes>"
      ]
     },
     "metadata": {
      "needs_background": "light"
     },
     "output_type": "display_data"
    }
   ],
   "source": [
    "## sample: plot ROC curve\n",
    "d = cv_logres.bestModel.stages[-1].summary.roc.toPandas()\n",
    "sns.lineplot(\n",
    "    x = d['FPR'],\n",
    "    y = d['TPR']\n",
    ")\n",
    "sns.despine();"
   ]
  },
  {
   "cell_type": "markdown",
   "metadata": {},
   "source": [
    "### Decision Tree"
   ]
  },
  {
   "cell_type": "code",
   "execution_count": null,
   "metadata": {},
   "outputs": [],
   "source": []
  },
  {
   "cell_type": "code",
   "execution_count": null,
   "metadata": {},
   "outputs": [],
   "source": []
  }
 ],
 "metadata": {
  "kernelspec": {
   "display_name": "pykernel",
   "language": "python",
   "name": "pykernel"
  },
  "language_info": {
   "codemirror_mode": {
    "name": "ipython",
    "version": 3
   },
   "file_extension": ".py",
   "mimetype": "text/x-python",
   "name": "python",
   "nbconvert_exporter": "python",
   "pygments_lexer": "ipython3",
   "version": "3.8.3"
  }
 },
 "nbformat": 4,
 "nbformat_minor": 2
}
