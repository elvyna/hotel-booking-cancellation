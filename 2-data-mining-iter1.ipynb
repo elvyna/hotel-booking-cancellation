{
 "cells": [
  {
   "cell_type": "code",
   "execution_count": 1,
   "metadata": {},
   "outputs": [],
   "source": [
    "import seaborn as sns\n",
    "import matplotlib.pyplot as plt\n",
    "import matplotlib.ticker as mtick\n",
    "import numpy as np\n",
    "import pandas as pd\n",
    "\n",
    "sns.set_context('talk')\n",
    "\n",
    "## set random seed\n",
    "RND = 722"
   ]
  },
  {
   "cell_type": "markdown",
   "metadata": {},
   "source": [
    "**Note:**\n",
    "\n",
    "Data source: [hotel demand datasets](https://ars.els-cdn.com/content/image/1-s2.0-S2352340918315191-mmc2.zip) from Antonio, et al. (2019).\n",
    "\n",
    "Paper: Antonio, N., De Almeida, A., & Nunes, L. (2019). Hotel booking demand datasets. Data in Brief, 22, 41-49. https://doi.org/10.1016/j.dib.2018.11.126"
   ]
  },
  {
   "cell_type": "code",
   "execution_count": 2,
   "metadata": {},
   "outputs": [
    {
     "name": "stderr",
     "output_type": "stream",
     "text": [
      "/home/ubuntu/spark-2.1.1-bin-hadoop2.7/python/pyspark/cloudpickle.py:365: SyntaxWarning: \"is\" with a literal. Did you mean \"==\"?\n",
      "  if obj.__module__ is \"__builtin__\":\n"
     ]
    }
   ],
   "source": [
    "import findspark\n",
    "findspark.init('/home/ubuntu/spark-2.1.1-bin-hadoop2.7')\n",
    "import pyspark\n",
    "from pyspark.sql import SparkSession\n",
    "spark = SparkSession.builder.appName('data-preparation-data-transformation').getOrCreate()"
   ]
  },
  {
   "cell_type": "markdown",
   "metadata": {},
   "source": [
    "We load the transformed data from `1-data-preparation-datatransformation.ipynb`."
   ]
  },
  {
   "cell_type": "markdown",
   "metadata": {},
   "source": [
    "# 5. Data Mining Method Selection\n",
    "\n",
    "Supervised learning: classification task.\n",
    "\n",
    "\n",
    "# 6. Data Mining Algorithm Selection\n",
    "\n",
    "- Logistic Regression\n",
    "- Decision Tree\n",
    "- Random Forest\n",
    "- Gradient Boosted Tree"
   ]
  },
  {
   "cell_type": "markdown",
   "metadata": {},
   "source": [
    "# 7. Data Mining\n",
    "\n",
    "## 7.1. Create and Justify Test Designs\n",
    "\n",
    "Train-validation-test. Use k-fold cross validation to estimate the performance in validation set.\n",
    "\n",
    "We use similar train-test data as we used in feature selection and random oversampling."
   ]
  },
  {
   "cell_type": "code",
   "execution_count": 3,
   "metadata": {},
   "outputs": [],
   "source": [
    "import json\n",
    "from pyspark.sql.types import StructType\n",
    "\n",
    "## Get schema of the JSON file\n",
    "with open(\"hotel_merged_data_transformation_schema.json\") as f:\n",
    "    new_schema = StructType.fromJson(json.load(f))"
   ]
  },
  {
   "cell_type": "code",
   "execution_count": 4,
   "metadata": {},
   "outputs": [],
   "source": [
    "## Read the JSON file based on the saved schema\n",
    "df_hotel = spark.read.json('hotel_merged_data_transformation.json/',\n",
    "                          schema = new_schema)"
   ]
  },
  {
   "cell_type": "code",
   "execution_count": 5,
   "metadata": {},
   "outputs": [
    {
     "data": {
      "text/plain": [
       "141012"
      ]
     },
     "execution_count": 5,
     "metadata": {},
     "output_type": "execute_result"
    }
   ],
   "source": [
    "## recheck number of observations\n",
    "df_hotel.count()"
   ]
  },
  {
   "cell_type": "code",
   "execution_count": 6,
   "metadata": {},
   "outputs": [
    {
     "name": "stdout",
     "output_type": "stream",
     "text": [
      "root\n",
      " |-- IsCanceled: integer (nullable = true)\n",
      " |-- LeadTime: double (nullable = true)\n",
      " |-- ArrivalDateWeekNumber: integer (nullable = true)\n",
      " |-- ArrivalDateDayOfMonth: integer (nullable = true)\n",
      " |-- StaysInWeekendNights: integer (nullable = true)\n",
      " |-- StaysInWeekNights: integer (nullable = true)\n",
      " |-- Adults: integer (nullable = true)\n",
      " |-- IsRepeatedGuest: boolean (nullable = true)\n",
      " |-- PreviousCancellations: integer (nullable = true)\n",
      " |-- PreviousBookingsNotCanceled: integer (nullable = true)\n",
      " |-- DaysInWaitingList: integer (nullable = true)\n",
      " |-- ADR: double (nullable = true)\n",
      " |-- HasChild: boolean (nullable = true)\n",
      " |-- RequireCarPark: boolean (nullable = true)\n",
      " |-- HasSpecialRequest: boolean (nullable = true)\n",
      " |-- IsReservedRoomTypeEqualToAssigned: boolean (nullable = true)\n",
      " |-- IsCityHotel: boolean (nullable = true)\n",
      " |-- MealVector: vector (nullable = true)\n",
      " |-- MarketSegmentVector: vector (nullable = true)\n",
      " |-- DistributionChannelVector: vector (nullable = true)\n",
      " |-- DepositTypeVector: vector (nullable = true)\n",
      " |-- CustomerTypeVector: vector (nullable = true)\n",
      " |-- IsTestSet: boolean (nullable = true)\n",
      "\n"
     ]
    }
   ],
   "source": [
    "df_hotel.printSchema()"
   ]
  },
  {
   "cell_type": "code",
   "execution_count": 7,
   "metadata": {},
   "outputs": [],
   "source": [
    "## split the dataframe based on previous train-test-split\n",
    "df_train = df_hotel.filter('IsTestSet == False').drop('IsTestSet')\n",
    "df_test = df_hotel.filter('IsTestSet == True').drop('IsTestSet')"
   ]
  },
  {
   "cell_type": "markdown",
   "metadata": {},
   "source": [
    "## 7.2. Conduct Data Mining\n",
    "\n",
    "Algorithms:\n",
    "- Logistic Regression\n",
    "- Decision Tree\n",
    "- Random Forest\n",
    "- Gradient-Boosted Tree\n",
    "\n",
    "These models are evaluated based on accuracy and AUC.\n"
   ]
  },
  {
   "cell_type": "code",
   "execution_count": 8,
   "metadata": {},
   "outputs": [],
   "source": [
    "from pyspark.ml.tuning import CrossValidator, ParamGridBuilder\n",
    "from pyspark.ml import Pipeline\n",
    "from pyspark.ml.feature import VectorAssembler\n",
    "from pyspark.ml.evaluation import BinaryClassificationEvaluator, MulticlassClassificationEvaluator\n",
    "\n",
    "def kfold_cv(spark_df,\n",
    "             target_colname, \n",
    "             clf,\n",
    "             k = 10,\n",
    "             random_seed = 722,\n",
    "             eval_metric = 'accuracy',\n",
    "             raw_prediction_colname = 'rawPrediction'\n",
    "            ):\n",
    "    \"\"\"\n",
    "    Perform k-fold cross-validation using the specified classifier.\n",
    "    Return the cross-validated model.\n",
    "    \"\"\"\n",
    "    params = ParamGridBuilder().build()\n",
    "\n",
    "    assembler = VectorAssembler(\n",
    "        inputCols = [colname for colname in spark_df.columns if (colname != target_colname)],\n",
    "        outputCol = 'features'\n",
    "    )\n",
    "\n",
    "    pipeline = Pipeline(\n",
    "        stages = [assembler, clf]\n",
    "    )\n",
    "\n",
    "    cv_binary = CrossValidator(\n",
    "        estimator = pipeline,\n",
    "        estimatorParamMaps = params,\n",
    "        evaluator = BinaryClassificationEvaluator(\n",
    "            labelCol = target_colname, \n",
    "            rawPredictionCol = raw_prediction_colname,\n",
    "            metricName = 'areaUnderROC'\n",
    "        ),\n",
    "        numFolds = k,\n",
    "        seed = random_seed\n",
    "    )\n",
    "    \n",
    "    cv_multi = CrossValidator(\n",
    "        estimator = pipeline,\n",
    "        estimatorParamMaps = params,\n",
    "        evaluator = MulticlassClassificationEvaluator(\n",
    "            labelCol = target_colname, \n",
    "            metricName = eval_metric\n",
    "        ),\n",
    "        numFolds = k,\n",
    "        seed = random_seed\n",
    "    )\n",
    "    \n",
    "    ## Same model, but different evaluator\n",
    "    ## We only want to store the average value of the evaluation metrics\n",
    "    cv_model_binary = cv_binary.fit(spark_df)\n",
    "    cv_model_multi = cv_multi.fit(spark_df)\n",
    "    \n",
    "    print(\"Cross-validation results\")\n",
    "    print(\"========================\")\n",
    "    print(\"AUC: {}\".format(cv_model_binary.avgMetrics[0]))\n",
    "    print(\"Accuracy: {}\".format(cv_model_multi.avgMetrics[0]))\n",
    "    \n",
    "    ## Only return one model (both are similar)\n",
    "    return cv_model_binary"
   ]
  },
  {
   "cell_type": "code",
   "execution_count": 9,
   "metadata": {},
   "outputs": [],
   "source": [
    "from pyspark.ml.evaluation import BinaryClassificationEvaluator, MulticlassClassificationEvaluator\n",
    "\n",
    "def evaluate_performance(clf, spark_df, target_colname, raw_prediction_colname = 'rawPrediction'):\n",
    "    \"\"\"\n",
    "    Evaluate model performance on the given dataset.\n",
    "    Return the AUC and accuracy.\n",
    "    \"\"\"\n",
    "    binary_evaluator = BinaryClassificationEvaluator(\n",
    "        labelCol = target_colname,\n",
    "        rawPredictionCol = raw_prediction_colname\n",
    "    )\n",
    "    multi_evaluator = MulticlassClassificationEvaluator(\n",
    "        labelCol = target_colname,\n",
    "        metricName = 'accuracy'\n",
    "    )\n",
    "    \n",
    "    pred_df = clf.transform(spark_df)\n",
    "    print(\"AUC: {}\".format(binary_evaluator.evaluate(pred_df)))\n",
    "    print(\"Accuracy: {}\".format(multi_evaluator.evaluate(pred_df)))"
   ]
  },
  {
   "cell_type": "markdown",
   "metadata": {},
   "source": [
    "### Logistic Regression"
   ]
  },
  {
   "cell_type": "code",
   "execution_count": 10,
   "metadata": {},
   "outputs": [
    {
     "name": "stdout",
     "output_type": "stream",
     "text": [
      "Cross-validation results\n",
      "========================\n",
      "AUC: 0.8623119248765567\n",
      "Accuracy: 0.7699028342214574\n"
     ]
    }
   ],
   "source": [
    "from pyspark.ml.classification import LogisticRegression\n",
    "\n",
    "logres = LogisticRegression(maxIter = 10, labelCol = 'IsCanceled')\n",
    "\n",
    "cv_logres = kfold_cv(df_train, target_colname = 'IsCanceled', clf = logres, k = 5)"
   ]
  },
  {
   "cell_type": "code",
   "execution_count": 12,
   "metadata": {},
   "outputs": [
    {
     "name": "stdout",
     "output_type": "stream",
     "text": [
      "AUC: 0.8659261022206844\n",
      "Accuracy: 0.7812648863731891\n"
     ]
    }
   ],
   "source": [
    "## On test set\n",
    "evaluate_performance(cv_logres, df_test, target_colname = 'IsCanceled')"
   ]
  },
  {
   "cell_type": "code",
   "execution_count": 13,
   "metadata": {},
   "outputs": [
    {
     "data": {
      "image/png": "[encoded data removed]",
      "text/plain": [
       "<Figure size 432x288 with 1 Axes>"
      ]
     },
     "metadata": {
      "needs_background": "light"
     },
     "output_type": "display_data"
    }
   ],
   "source": [
    "## sample: plot ROC curve -- available on logistic regression model, but not other models like Decision Tree, RF\n",
    "## solution: https://stackoverflow.com/questions/52847408/pyspark-extract-roc-curve\n",
    "d = cv_logres.bestModel.stages[-1].summary.roc.toPandas()\n",
    "sns.lineplot(\n",
    "    x = d['FPR'],\n",
    "    y = d['TPR']\n",
    ")\n",
    "sns.despine();"
   ]
  },
  {
   "cell_type": "markdown",
   "metadata": {},
   "source": [
    "### Decision Tree"
   ]
  },
  {
   "cell_type": "code",
   "execution_count": 14,
   "metadata": {},
   "outputs": [
    {
     "name": "stdout",
     "output_type": "stream",
     "text": [
      "Cross-validation results\n",
      "========================\n",
      "AUC: 0.7632406489432279\n",
      "Accuracy: 0.7528848343396405\n"
     ]
    }
   ],
   "source": [
    "from pyspark.ml.classification import DecisionTreeClassifier\n",
    "\n",
    "dtree = DecisionTreeClassifier(labelCol = 'IsCanceled', seed = RND)\n",
    "cv_dtree = kfold_cv(df_train, target_colname = 'IsCanceled', clf = dtree, k = 5)"
   ]
  },
  {
   "cell_type": "code",
   "execution_count": 16,
   "metadata": {},
   "outputs": [
    {
     "name": "stdout",
     "output_type": "stream",
     "text": [
      "AUC: 0.7953662469918492\n",
      "Accuracy: 0.8044666124919438\n"
     ]
    }
   ],
   "source": [
    "## On test set\n",
    "evaluate_performance(cv_dtree, df_test, target_colname = 'IsCanceled')"
   ]
  },
  {
   "cell_type": "markdown",
   "metadata": {},
   "source": [
    "### Random Forest"
   ]
  },
  {
   "cell_type": "code",
   "execution_count": 17,
   "metadata": {},
   "outputs": [
    {
     "name": "stdout",
     "output_type": "stream",
     "text": [
      "Cross-validation results\n",
      "========================\n",
      "AUC: 0.858395569640678\n",
      "Accuracy: 0.764051552153388\n"
     ]
    }
   ],
   "source": [
    "from pyspark.ml.classification import RandomForestClassifier\n",
    "\n",
    "rf = RandomForestClassifier(labelCol = 'IsCanceled', numTrees = 10, seed = RND)\n",
    "cv_rf = kfold_cv(df_train, target_colname = 'IsCanceled', clf = rf, k = 5)"
   ]
  },
  {
   "cell_type": "code",
   "execution_count": 19,
   "metadata": {},
   "outputs": [
    {
     "name": "stdout",
     "output_type": "stream",
     "text": [
      "AUC: 0.8593754117640103\n",
      "Accuracy: 0.7632751422086475\n"
     ]
    }
   ],
   "source": [
    "## On test set\n",
    "evaluate_performance(cv_rf, df_test, target_colname = 'IsCanceled')"
   ]
  },
  {
   "cell_type": "markdown",
   "metadata": {},
   "source": [
    "### Gradient Boosted Tree\n",
    "\n",
    "Note: current GBTclassifier Pyspark implementation does not return `rawPrediction` and `probability` as the output."
   ]
  },
  {
   "cell_type": "code",
   "execution_count": 20,
   "metadata": {},
   "outputs": [
    {
     "name": "stdout",
     "output_type": "stream",
     "text": [
      "Cross-validation results\n",
      "========================\n",
      "AUC: 0.7835469382905365\n",
      "Accuracy: 0.7835847005026777\n"
     ]
    }
   ],
   "source": [
    "from pyspark.ml.classification import GBTClassifier\n",
    "\n",
    "gbt = GBTClassifier(labelCol = 'IsCanceled', seed = RND, maxIter = 10)\n",
    "cv_gbt = kfold_cv(\n",
    "    df_train, \n",
    "    target_colname = 'IsCanceled',\n",
    "    clf = gbt, \n",
    "    k = 5,\n",
    "    raw_prediction_colname = 'prediction'\n",
    ")"
   ]
  },
  {
   "cell_type": "code",
   "execution_count": 22,
   "metadata": {},
   "outputs": [
    {
     "name": "stdout",
     "output_type": "stream",
     "text": [
      "AUC: 0.7766029451470726\n",
      "Accuracy: 0.7766627106574887\n"
     ]
    }
   ],
   "source": [
    "## On test set\n",
    "evaluate_performance(cv_gbt, df_test, target_colname = 'IsCanceled', raw_prediction_colname = 'prediction')"
   ]
  },
  {
   "cell_type": "markdown",
   "metadata": {},
   "source": [
    "## 7.3. Search for Patterns"
   ]
  },
  {
   "cell_type": "code",
   "execution_count": 23,
   "metadata": {},
   "outputs": [],
   "source": [
    "## store the feature list, so that we can extract them\n",
    "from pyspark.ml.feature import VectorAssembler\n",
    "\n",
    "assembler = VectorAssembler(\n",
    "    inputCols = [colname for colname in df_train.columns if (colname != 'IsCanceled')],\n",
    "    outputCol = 'features'\n",
    ")\n",
    "\n",
    "df_train_assembled = assembler.transform(df_train)"
   ]
  },
  {
   "cell_type": "code",
   "execution_count": 24,
   "metadata": {},
   "outputs": [],
   "source": [
    "def get_feature_importance_score(feature_importance, spark_df, feature_colname):\n",
    "    \"\"\"\n",
    "    Extract feature importance scores and combine them with the feature name.\n",
    "    \"\"\"\n",
    "    attributes_dict = spark_df.schema[feature_colname].metadata[\"ml_attr\"][\"attrs\"]\n",
    "    attributes_list = []\n",
    "    \n",
    "    for key in attributes_dict:\n",
    "        attributes_list = attributes_list + attributes_dict[key]\n",
    "    \n",
    "    df_attributes = pd.DataFrame(attributes_list)\n",
    "    df_attributes['score'] = df_attributes['idx'].apply(lambda x: feature_importance[x])\n",
    "    df_attributes = df_attributes.sort_values(\n",
    "        'score', \n",
    "        ascending = False\n",
    "    ).drop(\n",
    "        labels = 'idx', \n",
    "        axis = 1\n",
    "    )\n",
    "    \n",
    "    return df_attributes"
   ]
  },
  {
   "cell_type": "code",
   "execution_count": null,
   "metadata": {},
   "outputs": [],
   "source": [
    "def plot_feature_importance_score(df,\n",
    "                                  feature_name_col='name',\n",
    "                                  feature_score_col='score', \n",
    "                                  xlabel='feature importance'):\n",
    "    f, ax = plt.subplots(figsize = (14,12))\n",
    "    sns.barplot(\n",
    "        data = df,\n",
    "        y = feature_name_col,\n",
    "        x = feature_score_col,\n",
    "        orient = 'h',\n",
    "        palette = 'magma',\n",
    "        ax = ax\n",
    "    );\n",
    "\n",
    "    plt.xlabel(xlabel)\n",
    "    plt.ylabel('')\n",
    "    sns.despine();"
   ]
  },
  {
   "cell_type": "markdown",
   "metadata": {},
   "source": [
    "### Logistic Regression"
   ]
  },
  {
   "cell_type": "code",
   "execution_count": 25,
   "metadata": {},
   "outputs": [],
   "source": [
    "logres_coef = get_feature_importance_score(\n",
    "    feature_importance = cv_logres.bestModel.stages[-1].coefficients,\n",
    "    spark_df = df_train_assembled,\n",
    "    feature_colname = 'features'\n",
    ")\n",
    "\n",
    "logres_coef['score_abs'] = np.abs(logres_coef['score'])"
   ]
  },
  {
   "cell_type": "code",
   "execution_count": null,
   "metadata": {},
   "outputs": [],
   "source": [
    "plot_feature_importance_score(logres_coef, xlabel = 'coefficient value')"
   ]
  },
  {
   "cell_type": "code",
   "execution_count": 32,
   "metadata": {},
   "outputs": [
    {
     "data": {
      "image/png": "[encoded data removed]",
      "text/plain": [
       "<Figure size 1008x864 with 1 Axes>"
      ]
     },
     "metadata": {
      "needs_background": "light"
     },
     "output_type": "display_data"
    }
   ],
   "source": [
    "# f, ax = plt.subplots(figsize = (14,12))\n",
    "# sns.barplot(\n",
    "#     data = logres_coef,\n",
    "#     y = 'name',\n",
    "#     x = 'score',\n",
    "#     orient = 'h',\n",
    "#     palette = 'magma',\n",
    "#     ax = ax\n",
    "# );\n",
    "\n",
    "# plt.xlabel('coefficient value')\n",
    "# plt.ylabel('')\n",
    "# sns.despine();"
   ]
  },
  {
   "cell_type": "markdown",
   "metadata": {},
   "source": [
    "### Decision Tree"
   ]
  },
  {
   "cell_type": "code",
   "execution_count": 33,
   "metadata": {},
   "outputs": [
    {
     "ename": "AttributeError",
     "evalue": "'DecisionTreeClassificationModel' object has no attribute 'coefficients'",
     "output_type": "error",
     "traceback": [
      "\u001b[0;31m---------------------------------------------------------------------------\u001b[0m",
      "\u001b[0;31mAttributeError\u001b[0m                            Traceback (most recent call last)",
      "\u001b[0;32m<ipython-input-33-3ee9fb071e89>\u001b[0m in \u001b[0;36m<module>\u001b[0;34m\u001b[0m\n\u001b[1;32m      1\u001b[0m dtree_features = get_feature_importance_score(\n\u001b[0;32m----> 2\u001b[0;31m     \u001b[0mfeature_importance\u001b[0m \u001b[0;34m=\u001b[0m \u001b[0mcv_dtree\u001b[0m\u001b[0;34m.\u001b[0m\u001b[0mbestModel\u001b[0m\u001b[0;34m.\u001b[0m\u001b[0mstages\u001b[0m\u001b[0;34m[\u001b[0m\u001b[0;34m-\u001b[0m\u001b[0;36m1\u001b[0m\u001b[0;34m]\u001b[0m\u001b[0;34m.\u001b[0m\u001b[0mcoefficients\u001b[0m\u001b[0;34m,\u001b[0m\u001b[0;34m\u001b[0m\u001b[0;34m\u001b[0m\u001b[0m\n\u001b[0m\u001b[1;32m      3\u001b[0m     \u001b[0mspark_df\u001b[0m \u001b[0;34m=\u001b[0m \u001b[0mdf_train_assembled\u001b[0m\u001b[0;34m,\u001b[0m\u001b[0;34m\u001b[0m\u001b[0;34m\u001b[0m\u001b[0m\n\u001b[1;32m      4\u001b[0m     \u001b[0mfeature_colname\u001b[0m \u001b[0;34m=\u001b[0m \u001b[0;34m'features'\u001b[0m\u001b[0;34m\u001b[0m\u001b[0;34m\u001b[0m\u001b[0m\n\u001b[1;32m      5\u001b[0m )\n",
      "\u001b[0;31mAttributeError\u001b[0m: 'DecisionTreeClassificationModel' object has no attribute 'coefficients'"
     ]
    }
   ],
   "source": [
    "dtree_features = get_feature_importance_score(\n",
    "    feature_importance = cv_dtree.bestModel.stages[-1].featureImportances,\n",
    "    spark_df = df_train_assembled,\n",
    "    feature_colname = 'features'\n",
    ")\n",
    "\n",
    "plot_feature_importance_score(dtree_features)\n",
    "\n",
    "# f, ax = plt.subplots(figsize = (14,12))\n",
    "# sns.barplot(\n",
    "#     data = dtree_features,\n",
    "#     y = 'name',\n",
    "#     x = 'score',\n",
    "#     orient = 'h',\n",
    "#     palette = 'magma',\n",
    "#     ax = ax\n",
    "# );\n",
    "\n",
    "# plt.xlabel('feature importance')\n",
    "# plt.ylabel('')\n",
    "# sns.despine();"
   ]
  },
  {
   "cell_type": "markdown",
   "metadata": {},
   "source": [
    "### Random Forest"
   ]
  },
  {
   "cell_type": "code",
   "execution_count": null,
   "metadata": {},
   "outputs": [],
   "source": [
    "rf_features = get_feature_importance_score(\n",
    "    feature_importance = cv_rf.bestModel.stages[-1].featureImportances,\n",
    "    spark_df = df_train_assembled,\n",
    "    feature_colname = 'features'\n",
    ")\n",
    "\n",
    "plot_feature_importance_score(rf_features)\n",
    "\n",
    "# f, ax = plt.subplots(figsize = (12,6))\n",
    "# sns.barplot(\n",
    "#     data = rf_features,\n",
    "#     y = 'feature_name',\n",
    "#     x = 'feature_importance',\n",
    "#     orient = 'h',\n",
    "#     palette = 'magma',\n",
    "#     ax = ax\n",
    "# );\n",
    "\n",
    "# plt.xlabel('feature importance')\n",
    "# plt.ylabel('')\n",
    "# sns.despine();"
   ]
  },
  {
   "cell_type": "markdown",
   "metadata": {},
   "source": [
    "### Gradient Boosted Tree"
   ]
  },
  {
   "cell_type": "code",
   "execution_count": null,
   "metadata": {},
   "outputs": [],
   "source": [
    "gbt_features = get_feature_importance_score(\n",
    "    feature_importance = cv_gbt.bestModel.stages[-1].featureImportances,\n",
    "    spark_df = df_train_assembled,\n",
    "    feature_colname = 'features'\n",
    ")\n",
    "\n",
    "plot_feature_importance_score(gbt_features)\n",
    "\n",
    "# f, ax = plt.subplots(figsize = (12,6))\n",
    "# sns.barplot(\n",
    "#     data = gbt_features,\n",
    "#     y = 'feature_name',\n",
    "#     x = 'feature_importance',\n",
    "#     orient = 'h',\n",
    "#     palette = 'magma',\n",
    "#     ax = ax\n",
    "# );\n",
    "\n",
    "# plt.xlabel('feature importance')\n",
    "# plt.ylabel('')\n",
    "# sns.despine();"
   ]
  },
  {
   "cell_type": "markdown",
   "metadata": {},
   "source": [
    "# 8. Interpretation\n",
    "\n",
    "## 8.1. Study and Discuss the Mined Patterns\n",
    "\n",
    "\n",
    "We extract the top 5 important features based on each model, as displayed below. There are some intersections of the top features, e.g., LeadTime is considered important in Decision Tree, Random Forest, and GBDT."
   ]
  },
  {
   "cell_type": "code",
   "execution_count": null,
   "metadata": {},
   "outputs": [],
   "source": [
    "# TOP_N_FEATURES = 5\n",
    "# FEATURE_NAME_COL = 'feature_name'\n",
    "\n",
    "# logres_top_features = logres_coef.sort_values(\n",
    "#     by = 'coef_abs', \n",
    "#     ascending = False\n",
    "# ).head(TOP_N_FEATURES)[FEATURE_NAME_COL].values\n",
    "\n",
    "# df_top_features = pd.DataFrame(\n",
    "#     data = {\n",
    "#         'logistic_regression': logres_top_features,\n",
    "#         'decision_tree': dtree_features.head(TOP_N_FEATURES)[FEATURE_NAME_COL].values,\n",
    "#         'random_forest': rf_features.head(TOP_N_FEATURES)[FEATURE_NAME_COL].values,\n",
    "#         'gbt': gbt_features.head(TOP_N_FEATURES)[FEATURE_NAME_COL].values\n",
    "#     }\n",
    "# )\n",
    "\n",
    "# df_top_features"
   ]
  },
  {
   "cell_type": "markdown",
   "metadata": {},
   "source": [
    "There are ... unique features."
   ]
  },
  {
   "cell_type": "code",
   "execution_count": null,
   "metadata": {},
   "outputs": [],
   "source": [
    "from itertools import chain\n",
    "\n",
    "top_features = set(chain(*df_top_features.values))\n",
    "top_features"
   ]
  },
  {
   "cell_type": "markdown",
   "metadata": {},
   "source": [
    "## 8.2. Visualise the Data, Results, Models, Patterns"
   ]
  },
  {
   "cell_type": "code",
   "execution_count": null,
   "metadata": {},
   "outputs": [],
   "source": []
  },
  {
   "cell_type": "markdown",
   "metadata": {},
   "source": [
    "## 8.3. Interpret the Results, Models, Patterns\n",
    "\n",
    "Cancelled bookings:\n",
    "- have bimodal ADR distribution\n",
    "- have longer lead time\n",
    "- are observed more frequently around the 18th week of year (start of Q2)\n",
    "- are observed more on Groups market segment\n",
    "- NOT observed on bookings that require car park\n",
    "- observed more frequently on customers with more historical booking cancellations"
   ]
  },
  {
   "cell_type": "markdown",
   "metadata": {},
   "source": [
    "## 8.4. Assess and Evaluate the Results, Models, Patterns"
   ]
  },
  {
   "cell_type": "code",
   "execution_count": null,
   "metadata": {},
   "outputs": [],
   "source": []
  }
 ],
 "metadata": {
  "kernelspec": {
   "display_name": "pykernel",
   "language": "python",
   "name": "pykernel"
  },
  "language_info": {
   "codemirror_mode": {
    "name": "ipython",
    "version": 3
   },
   "file_extension": ".py",
   "mimetype": "text/x-python",
   "name": "python",
   "nbconvert_exporter": "python",
   "pygments_lexer": "ipython3",
   "version": "3.8.3"
  }
 },
 "nbformat": 4,
 "nbformat_minor": 2
}
