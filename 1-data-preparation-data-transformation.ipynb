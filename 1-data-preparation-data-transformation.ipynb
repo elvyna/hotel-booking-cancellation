{
 "cells": [
  {
   "cell_type": "code",
   "execution_count": 1,
   "metadata": {},
   "outputs": [],
   "source": [
    "import seaborn as sns\n",
    "import matplotlib.pyplot as plt\n",
    "import matplotlib.ticker as mtick\n",
    "import numpy as np\n",
    "import pandas as pd\n",
    "\n",
    "sns.set_context('talk')"
   ]
  },
  {
   "cell_type": "markdown",
   "metadata": {},
   "source": [
    "**Note:**\n",
    "\n",
    "Data source: [hotel demand datasets](https://ars.els-cdn.com/content/image/1-s2.0-S2352340918315191-mmc2.zip) from Antonio, et al. (2019).\n",
    "\n",
    "Paper: Antonio, N., De Almeida, A., & Nunes, L. (2019). Hotel booking demand datasets. Data in Brief, 22, 41-49. https://doi.org/10.1016/j.dib.2018.11.126"
   ]
  },
  {
   "cell_type": "code",
   "execution_count": 2,
   "metadata": {},
   "outputs": [
    {
     "name": "stderr",
     "output_type": "stream",
     "text": [
      "/home/ubuntu/spark-2.1.1-bin-hadoop2.7/python/pyspark/cloudpickle.py:365: SyntaxWarning: \"is\" with a literal. Did you mean \"==\"?\n",
      "  if obj.__module__ is \"__builtin__\":\n"
     ]
    }
   ],
   "source": [
    "import findspark\n",
    "findspark.init('/home/ubuntu/spark-2.1.1-bin-hadoop2.7')\n",
    "import pyspark\n",
    "from pyspark.sql import SparkSession\n",
    "spark = SparkSession.builder.appName('data-preparation-data-transformation').getOrCreate()"
   ]
  },
  {
   "cell_type": "code",
   "execution_count": 3,
   "metadata": {},
   "outputs": [],
   "source": [
    "# Import data with automatically configured schema\n",
    "df_h1 = spark.read.csv('H1.csv', header=True, inferSchema=True)\n",
    "df_h2 = spark.read.csv('H2.csv', header=True, inferSchema=True)"
   ]
  },
  {
   "cell_type": "markdown",
   "metadata": {},
   "source": [
    "# 3. Data Preparation\n",
    "\n",
    "## 3.1. Select the Data\n",
    "\n",
    "### 3.1.1. Select Rows\n",
    "\n",
    "Remove invalid records:\n",
    "\n",
    "- bookings with negative ADR\n",
    "- cancelled city hotel booking with ADR = 5400\n",
    "- bookings with \"Undefined\" distribution channel\n",
    "- two cancelled city hotel bookings with \"Undefined\" market segment, which will be discarded alongside with bookings with \"Undefined\" distribution channel"
   ]
  },
  {
   "cell_type": "code",
   "execution_count": 4,
   "metadata": {},
   "outputs": [
    {
     "name": "stdout",
     "output_type": "stream",
     "text": [
      "H1.csv (40060, 31)\n",
      "H2.csv (79330, 31)\n"
     ]
    }
   ],
   "source": [
    "## check dataframe shape before we perform any changes\n",
    "print(\"H1.csv\", (df_h1.count(), len(df_h1.columns)))\n",
    "print(\"H2.csv\", (df_h2.count(), len(df_h2.columns)))"
   ]
  },
  {
   "cell_type": "code",
   "execution_count": 5,
   "metadata": {},
   "outputs": [],
   "source": [
    "## 1. remove bookings with negative ADR in H1; also run similar thing in H2 to ensure consistency\n",
    "df_h1 = df_h1.filter('ADR >= 0')\n",
    "df_h2 = df_h2.filter('ADR >= 0')"
   ]
  },
  {
   "cell_type": "code",
   "execution_count": 6,
   "metadata": {},
   "outputs": [],
   "source": [
    "## 2. remove extremely high ADR (and it's cancelled anyway)\n",
    "df_h2 = df_h2.filter('ADR != 5400')"
   ]
  },
  {
   "cell_type": "code",
   "execution_count": 7,
   "metadata": {},
   "outputs": [],
   "source": [
    "## 3. remove bookings with Undefined distribution channel\n",
    "df_h1 = df_h1.filter('DistributionChannel != \"Undefined\"')\n",
    "df_h2 = df_h2.filter('DistributionChannel != \"Undefined\"')"
   ]
  },
  {
   "cell_type": "code",
   "execution_count": 8,
   "metadata": {},
   "outputs": [
    {
     "name": "stdout",
     "output_type": "stream",
     "text": [
      "H1.csv (40058, 31)\n",
      "H2.csv (79325, 31)\n"
     ]
    }
   ],
   "source": [
    "## check dataframe shape before we perform any changes\n",
    "print(\"H1.csv\", (df_h1.count(), len(df_h1.columns)))\n",
    "print(\"H2.csv\", (df_h2.count(), len(df_h2.columns)))"
   ]
  },
  {
   "cell_type": "markdown",
   "metadata": {},
   "source": [
    "### 3.1.2. Select Columns\n",
    "\n",
    "Exclude BookingChanges, ReservationStatus, ReservationStatusDate"
   ]
  },
  {
   "cell_type": "code",
   "execution_count": 9,
   "metadata": {},
   "outputs": [],
   "source": [
    "dropped_cols = ['BookingChanges','ReservationStatus','ReservationStatusDate']\n",
    "\n",
    "df_h1 = df_h1.drop(*dropped_cols)\n",
    "df_h2 = df_h2.drop(*dropped_cols)"
   ]
  },
  {
   "cell_type": "code",
   "execution_count": 10,
   "metadata": {},
   "outputs": [
    {
     "name": "stdout",
     "output_type": "stream",
     "text": [
      "H1.csv (40058, 28)\n",
      "H2.csv (79325, 28)\n"
     ]
    }
   ],
   "source": [
    "## check dataframe shape before we perform any changes\n",
    "print(\"H1.csv\", (df_h1.count(), len(df_h1.columns)))\n",
    "print(\"H2.csv\", (df_h2.count(), len(df_h2.columns)))"
   ]
  },
  {
   "cell_type": "markdown",
   "metadata": {},
   "source": [
    "## 3.2. Clean the Data\n",
    "\n",
    "### 3.2.1. Inconsistent Coding Scheme\n",
    "\n",
    "Clean Meal values: remove white spaces, convert Undefined to SC"
   ]
  },
  {
   "cell_type": "code",
   "execution_count": 11,
   "metadata": {},
   "outputs": [],
   "source": [
    "import pyspark.sql.functions as F\n",
    "\n",
    "def remove_whitespaces(spark_df, colname):\n",
    "    \"\"\"\n",
    "    Remove extra whitespaces.\n",
    "    \"\"\"\n",
    "    spark_df = spark_df.withColumn(\n",
    "        colname,\n",
    "        F.trim(F.col(colname))\n",
    "    )\n",
    "    \n",
    "    return spark_df\n",
    "\n",
    "def clean_meal(spark_df):\n",
    "    \"\"\"\n",
    "    Remove extra whitespaces, reclassify \"Undefined\" as \"SC\".\n",
    "    \"\"\"\n",
    "    CONDITION = \"case when Meal == 'Undefined' then 'SC' else Meal end\"\n",
    "    spark_df = remove_whitespaces(spark_df, colname = 'Meal')\n",
    "    spark_df = spark_df.withColumn(\n",
    "        'Meal',\n",
    "        F.expr(CONDITION)\n",
    "    )\n",
    "    \n",
    "    return spark_df"
   ]
  },
  {
   "cell_type": "code",
   "execution_count": 12,
   "metadata": {},
   "outputs": [],
   "source": [
    "df_h1 = clean_meal(df_h1)\n",
    "df_h2 = clean_meal(df_h2)"
   ]
  },
  {
   "cell_type": "markdown",
   "metadata": {},
   "source": [
    "Check results."
   ]
  },
  {
   "cell_type": "code",
   "execution_count": 13,
   "metadata": {},
   "outputs": [
    {
     "data": {
      "text/plain": [
       "array(['BB', 'FB', 'HB', 'SC'], dtype=object)"
      ]
     },
     "execution_count": 13,
     "metadata": {},
     "output_type": "execute_result"
    }
   ],
   "source": [
    "df_h1.select('Meal').toPandas()['Meal'].unique()"
   ]
  },
  {
   "cell_type": "code",
   "execution_count": 14,
   "metadata": {},
   "outputs": [
    {
     "data": {
      "text/plain": [
       "array(['HB', 'BB', 'SC', 'FB'], dtype=object)"
      ]
     },
     "execution_count": 14,
     "metadata": {},
     "output_type": "execute_result"
    }
   ],
   "source": [
    "df_h2.select('Meal').toPandas()['Meal'].unique()"
   ]
  },
  {
   "cell_type": "markdown",
   "metadata": {},
   "source": [
    "Remove trailing whitespaces in AssignedRoomType and ReservedRoomType."
   ]
  },
  {
   "cell_type": "code",
   "execution_count": 15,
   "metadata": {},
   "outputs": [
    {
     "data": {
      "text/plain": [
       "[Row(AssignedRoomType='C               '),\n",
       " Row(AssignedRoomType='C               '),\n",
       " Row(AssignedRoomType='C               ')]"
      ]
     },
     "execution_count": 15,
     "metadata": {},
     "output_type": "execute_result"
    }
   ],
   "source": [
    "df_h1.select('AssignedRoomType').head(3)"
   ]
  },
  {
   "cell_type": "code",
   "execution_count": 16,
   "metadata": {},
   "outputs": [
    {
     "data": {
      "text/plain": [
       "[Row(ReservedRoomType='C               '),\n",
       " Row(ReservedRoomType='C               '),\n",
       " Row(ReservedRoomType='A               ')]"
      ]
     },
     "execution_count": 16,
     "metadata": {},
     "output_type": "execute_result"
    }
   ],
   "source": [
    "df_h1.select('ReservedRoomType').head(3)"
   ]
  },
  {
   "cell_type": "code",
   "execution_count": 17,
   "metadata": {},
   "outputs": [],
   "source": [
    "df_h1 = remove_whitespaces(df_h1, colname='AssignedRoomType')\n",
    "df_h2 = remove_whitespaces(df_h2, colname='AssignedRoomType')\n",
    "\n",
    "df_h1 = remove_whitespaces(df_h1, colname='ReservedRoomType')\n",
    "df_h2 = remove_whitespaces(df_h2, colname='ReservedRoomType')"
   ]
  },
  {
   "cell_type": "markdown",
   "metadata": {},
   "source": [
    "Check results."
   ]
  },
  {
   "cell_type": "code",
   "execution_count": 18,
   "metadata": {},
   "outputs": [
    {
     "data": {
      "text/plain": [
       "[Row(AssignedRoomType='C'),\n",
       " Row(AssignedRoomType='C'),\n",
       " Row(AssignedRoomType='C')]"
      ]
     },
     "execution_count": 18,
     "metadata": {},
     "output_type": "execute_result"
    }
   ],
   "source": [
    "df_h1.select('AssignedRoomType').head(3)"
   ]
  },
  {
   "cell_type": "code",
   "execution_count": 19,
   "metadata": {},
   "outputs": [
    {
     "data": {
      "text/plain": [
       "[Row(ReservedRoomType='C'),\n",
       " Row(ReservedRoomType='C'),\n",
       " Row(ReservedRoomType='A')]"
      ]
     },
     "execution_count": 19,
     "metadata": {},
     "output_type": "execute_result"
    }
   ],
   "source": [
    "df_h1.select('ReservedRoomType').head(3)"
   ]
  },
  {
   "cell_type": "markdown",
   "metadata": {},
   "source": [
    "### 3.2.2. Data Errors\n",
    "\n",
    "Remove records with extremely high ADR and \"Undefined\" values.\n",
    "\n",
    "Have been removed in Select Data > Select Rows section."
   ]
  },
  {
   "cell_type": "markdown",
   "metadata": {},
   "source": [
    "### 3.2.3. Missing Values\n",
    "\n",
    "Impute missing children in H2 (encoded as NA) to 0"
   ]
  },
  {
   "cell_type": "code",
   "execution_count": 20,
   "metadata": {},
   "outputs": [],
   "source": [
    "CONDITION = \"case when Children == 'NA' then '0' else Children end\"\n",
    "\n",
    "df_h2 = df_h2.withColumn(\n",
    "    'Children',\n",
    "    F.expr(CONDITION)\n",
    ")"
   ]
  },
  {
   "cell_type": "markdown",
   "metadata": {},
   "source": [
    "## 3.3. Construct the Data\n",
    "\n",
    "Create HasChild, HasBaby, RequireCarPark, HasSpecialRequest."
   ]
  },
  {
   "cell_type": "code",
   "execution_count": 21,
   "metadata": {},
   "outputs": [],
   "source": [
    "import pyspark.sql.functions as F\n",
    "\n",
    "def create_binary_column(spark_df, colname, new_colname, threshold=0):\n",
    "    \"\"\"\n",
    "    Create a new boolean column based on particular threshold value.\n",
    "    \"\"\"\n",
    "    CONDITION = \"case when {0} > {1} then True else False end\".format(colname, threshold)\n",
    "    spark_df = spark_df.withColumn(\n",
    "        new_colname,\n",
    "        F.expr(CONDITION)\n",
    "    )\n",
    "    return spark_df"
   ]
  },
  {
   "cell_type": "code",
   "execution_count": 22,
   "metadata": {},
   "outputs": [],
   "source": [
    "df_h1 = create_binary_column(df_h1, colname = 'Children', new_colname = 'HasChild')\n",
    "df_h1 = create_binary_column(df_h1, colname = 'Babies', new_colname = 'HasBaby')\n",
    "df_h1 = create_binary_column(df_h1, colname = 'RequiredCarParkingSpaces', new_colname = 'RequireCarPark')\n",
    "df_h1 = create_binary_column(df_h1, colname = 'TotalOfSpecialRequests', new_colname = 'HasSpecialRequest')\n",
    "\n",
    "df_h2 = create_binary_column(df_h2, colname = 'Children', new_colname = 'HasChild')\n",
    "df_h2 = create_binary_column(df_h2, colname = 'Babies', new_colname = 'HasBaby')\n",
    "df_h2 = create_binary_column(df_h2, colname = 'RequiredCarParkingSpaces', new_colname = 'RequireCarPark')\n",
    "df_h2 = create_binary_column(df_h2, colname = 'TotalOfSpecialRequests', new_colname = 'HasSpecialRequest')"
   ]
  },
  {
   "cell_type": "markdown",
   "metadata": {},
   "source": [
    "Create IsReservedRoomTypeEqualToAssigned."
   ]
  },
  {
   "cell_type": "code",
   "execution_count": 23,
   "metadata": {},
   "outputs": [],
   "source": [
    "df_h1 = df_h1.withColumn(\n",
    "    'IsReservedRoomTypeEqualToAssigned',\n",
    "    F.col('ReservedRoomType') == F.col('AssignedRoomType')\n",
    ")\n",
    "\n",
    "df_h2 = df_h2.withColumn(\n",
    "    'IsReservedRoomTypeEqualToAssigned',\n",
    "    F.col('ReservedRoomType') == F.col('AssignedRoomType')\n",
    ")"
   ]
  },
  {
   "cell_type": "markdown",
   "metadata": {},
   "source": [
    "Verify results."
   ]
  },
  {
   "cell_type": "code",
   "execution_count": 24,
   "metadata": {},
   "outputs": [
    {
     "data": {
      "text/plain": [
       "Row(IsReservedRoomTypeEqualToAssigned=True, ReservedRoomType='C', AssignedRoomType='C')"
      ]
     },
     "execution_count": 24,
     "metadata": {},
     "output_type": "execute_result"
    }
   ],
   "source": [
    "df_h1.select(['IsReservedRoomTypeEqualToAssigned','ReservedRoomType','AssignedRoomType']).head()"
   ]
  },
  {
   "cell_type": "code",
   "execution_count": 25,
   "metadata": {},
   "outputs": [
    {
     "data": {
      "text/plain": [
       "Row(IsReservedRoomTypeEqualToAssigned=False, ReservedRoomType='A', AssignedRoomType='C')"
      ]
     },
     "execution_count": 25,
     "metadata": {},
     "output_type": "execute_result"
    }
   ],
   "source": [
    "df_h1.filter('IsReservedRoomTypeEqualToAssigned == False').select([\n",
    "    'IsReservedRoomTypeEqualToAssigned','ReservedRoomType','AssignedRoomType'\n",
    "]).head()"
   ]
  },
  {
   "cell_type": "markdown",
   "metadata": {},
   "source": [
    "## 3.4. Integrate Various Data Sources\n",
    "\n",
    "Append dataframes."
   ]
  },
  {
   "cell_type": "code",
   "execution_count": 26,
   "metadata": {},
   "outputs": [
    {
     "name": "stdout",
     "output_type": "stream",
     "text": [
      "H1.csv (40058, 33)\n",
      "H2.csv (79325, 33)\n"
     ]
    }
   ],
   "source": [
    "## check current dataframe shape\n",
    "print(\"H1.csv\", (df_h1.count(), len(df_h1.columns)))\n",
    "print(\"H2.csv\", (df_h2.count(), len(df_h2.columns)))"
   ]
  },
  {
   "cell_type": "code",
   "execution_count": 27,
   "metadata": {},
   "outputs": [
    {
     "name": "stdout",
     "output_type": "stream",
     "text": [
      "Combined:  (119383, 34)\n"
     ]
    }
   ],
   "source": [
    "df_h1 = df_h1.withColumn('IsCityHotel', F.lit(False))\n",
    "df_h2 = df_h2.withColumn('IsCityHotel', F.lit(True))\n",
    "\n",
    "df_hotel = df_h1.union(df_h2)\n",
    "print(\"Combined: \", (df_hotel.count(), len(df_hotel.columns)))"
   ]
  },
  {
   "cell_type": "code",
   "execution_count": 28,
   "metadata": {},
   "outputs": [],
   "source": [
    "## remove unused objects from memory\n",
    "del df_h1, df_h2"
   ]
  },
  {
   "cell_type": "markdown",
   "metadata": {},
   "source": [
    "## 3.5. Format the Data as Required\n",
    "\n",
    "Restructure categorical values as boolean:\n",
    "- Meal\n",
    "- DistributionChannel\n",
    "- MarketSegment\n",
    "- CustomerType\n",
    "- DepositType\n",
    "- ArrivalDateMonth"
   ]
  },
  {
   "cell_type": "code",
   "execution_count": 29,
   "metadata": {},
   "outputs": [],
   "source": [
    "from pyspark.ml.feature import OneHotEncoder, StringIndexer\n",
    "\n",
    "def encode_categorical_column(spark_df, colname, remove_original=False):\n",
    "    \"\"\"\n",
    "    Encode categorical column of k distinct values into a vector of k-1 unique values.\n",
    "    The vector will be named colnameVector.\n",
    "    If remove_original=True, the original column is removed.\n",
    "    \"\"\"\n",
    "    indexer = StringIndexer(inputCol = colname, outputCol = colname+'Idx')\n",
    "    indexed = indexer.fit(spark_df).transform(spark_df)\n",
    "    \n",
    "    encoder = OneHotEncoder(dropLast = True, inputCol = colname+'Idx', outputCol = colname+'Vector')\n",
    "    encoded = encoder.transform(indexed)\n",
    "    \n",
    "    if remove_original:\n",
    "        dropped_cols = [colname, colname+'Idx']\n",
    "    else:\n",
    "        dropped_cols = [colname+'Idx']\n",
    "        encoded = encoded.drop(*dropped_cols)\n",
    "    \n",
    "    return encoded"
   ]
  },
  {
   "cell_type": "code",
   "execution_count": 30,
   "metadata": {},
   "outputs": [],
   "source": [
    "for col in ['Meal', 'MarketSegment','DistributionChannel','DepositType','CustomerType','ArrivalDateMonth']:\n",
    "    df_hotel = encode_categorical_column(df_hotel, colname = col)"
   ]
  },
  {
   "cell_type": "code",
   "execution_count": 31,
   "metadata": {},
   "outputs": [
    {
     "name": "stdout",
     "output_type": "stream",
     "text": [
      "+----+-------------+\n",
      "|Meal|   MealVector|\n",
      "+----+-------------+\n",
      "|  BB|(3,[0],[1.0])|\n",
      "|  SC|(3,[2],[1.0])|\n",
      "|  HB|(3,[1],[1.0])|\n",
      "|  FB|    (3,[],[])|\n",
      "+----+-------------+\n",
      "\n"
     ]
    }
   ],
   "source": [
    "## preview\n",
    "df_hotel.select(['Meal','MealVector']).distinct().show()"
   ]
  },
  {
   "cell_type": "code",
   "execution_count": 32,
   "metadata": {},
   "outputs": [
    {
     "name": "stdout",
     "output_type": "stream",
     "text": [
      "Combined:  (119383, 40)\n"
     ]
    }
   ],
   "source": [
    "print(\"Combined: \", (df_hotel.count(), len(df_hotel.columns)))"
   ]
  },
  {
   "cell_type": "markdown",
   "metadata": {},
   "source": [
    "**Determine the right data type**\n",
    "\n",
    "- IsCanceled should be boolean\n",
    "- Children should be integer\n",
    "- IsRepeated, HasChild, HasBaby, RequireCarPark, HasSpecialRequest should be boolean"
   ]
  },
  {
   "cell_type": "code",
   "execution_count": 33,
   "metadata": {},
   "outputs": [
    {
     "name": "stdout",
     "output_type": "stream",
     "text": [
      "root\n",
      " |-- IsCanceled: integer (nullable = true)\n",
      " |-- LeadTime: integer (nullable = true)\n",
      " |-- ArrivalDateYear: integer (nullable = true)\n",
      " |-- ArrivalDateMonth: string (nullable = true)\n",
      " |-- ArrivalDateWeekNumber: integer (nullable = true)\n",
      " |-- ArrivalDateDayOfMonth: integer (nullable = true)\n",
      " |-- StaysInWeekendNights: integer (nullable = true)\n",
      " |-- StaysInWeekNights: integer (nullable = true)\n",
      " |-- Adults: integer (nullable = true)\n",
      " |-- Children: string (nullable = true)\n",
      " |-- Babies: integer (nullable = true)\n",
      " |-- Meal: string (nullable = true)\n",
      " |-- Country: string (nullable = true)\n",
      " |-- MarketSegment: string (nullable = true)\n",
      " |-- DistributionChannel: string (nullable = true)\n",
      " |-- IsRepeatedGuest: double (nullable = true)\n",
      " |-- PreviousCancellations: integer (nullable = true)\n",
      " |-- PreviousBookingsNotCanceled: integer (nullable = true)\n",
      " |-- ReservedRoomType: string (nullable = true)\n",
      " |-- AssignedRoomType: string (nullable = true)\n",
      " |-- DepositType: string (nullable = true)\n",
      " |-- Agent: string (nullable = true)\n",
      " |-- Company: string (nullable = true)\n",
      " |-- DaysInWaitingList: integer (nullable = true)\n",
      " |-- CustomerType: string (nullable = true)\n",
      " |-- ADR: double (nullable = true)\n",
      " |-- RequiredCarParkingSpaces: integer (nullable = true)\n",
      " |-- TotalOfSpecialRequests: integer (nullable = true)\n",
      " |-- HasChild: boolean (nullable = false)\n",
      " |-- HasBaby: boolean (nullable = false)\n",
      " |-- RequireCarPark: boolean (nullable = false)\n",
      " |-- HasSpecialRequest: boolean (nullable = false)\n",
      " |-- IsReservedRoomTypeEqualToAssigned: boolean (nullable = true)\n",
      " |-- IsCityHotel: boolean (nullable = false)\n",
      " |-- MealVector: vector (nullable = true)\n",
      " |-- MarketSegmentVector: vector (nullable = true)\n",
      " |-- DistributionChannelVector: vector (nullable = true)\n",
      " |-- DepositTypeVector: vector (nullable = true)\n",
      " |-- CustomerTypeVector: vector (nullable = true)\n",
      " |-- ArrivalDateMonthVector: vector (nullable = true)\n",
      "\n"
     ]
    }
   ],
   "source": [
    "## before\n",
    "df_hotel.printSchema()"
   ]
  },
  {
   "cell_type": "code",
   "execution_count": 34,
   "metadata": {},
   "outputs": [],
   "source": [
    "df_hotel = df_hotel.withColumn(\n",
    "    'Children',\n",
    "    df_hotel['Children'].cast(\"integer\")\n",
    ")\n",
    "\n",
    "boolean_cols = ['IsRepeatedGuest', 'HasChild', 'HasBaby', 'RequireCarPark', 'HasSpecialRequest']\n",
    "for colname in boolean_cols:\n",
    "    df_hotel = df_hotel.withColumn(\n",
    "        colname,\n",
    "        df_hotel[colname].cast(\"boolean\")\n",
    "    )"
   ]
  },
  {
   "cell_type": "code",
   "execution_count": 35,
   "metadata": {},
   "outputs": [
    {
     "name": "stdout",
     "output_type": "stream",
     "text": [
      "root\n",
      " |-- IsCanceled: integer (nullable = true)\n",
      " |-- LeadTime: integer (nullable = true)\n",
      " |-- ArrivalDateYear: integer (nullable = true)\n",
      " |-- ArrivalDateMonth: string (nullable = true)\n",
      " |-- ArrivalDateWeekNumber: integer (nullable = true)\n",
      " |-- ArrivalDateDayOfMonth: integer (nullable = true)\n",
      " |-- StaysInWeekendNights: integer (nullable = true)\n",
      " |-- StaysInWeekNights: integer (nullable = true)\n",
      " |-- Adults: integer (nullable = true)\n",
      " |-- Children: integer (nullable = true)\n",
      " |-- Babies: integer (nullable = true)\n",
      " |-- Meal: string (nullable = true)\n",
      " |-- Country: string (nullable = true)\n",
      " |-- MarketSegment: string (nullable = true)\n",
      " |-- DistributionChannel: string (nullable = true)\n",
      " |-- IsRepeatedGuest: boolean (nullable = true)\n",
      " |-- PreviousCancellations: integer (nullable = true)\n",
      " |-- PreviousBookingsNotCanceled: integer (nullable = true)\n",
      " |-- ReservedRoomType: string (nullable = true)\n",
      " |-- AssignedRoomType: string (nullable = true)\n",
      " |-- DepositType: string (nullable = true)\n",
      " |-- Agent: string (nullable = true)\n",
      " |-- Company: string (nullable = true)\n",
      " |-- DaysInWaitingList: integer (nullable = true)\n",
      " |-- CustomerType: string (nullable = true)\n",
      " |-- ADR: double (nullable = true)\n",
      " |-- RequiredCarParkingSpaces: integer (nullable = true)\n",
      " |-- TotalOfSpecialRequests: integer (nullable = true)\n",
      " |-- HasChild: boolean (nullable = false)\n",
      " |-- HasBaby: boolean (nullable = false)\n",
      " |-- RequireCarPark: boolean (nullable = false)\n",
      " |-- HasSpecialRequest: boolean (nullable = false)\n",
      " |-- IsReservedRoomTypeEqualToAssigned: boolean (nullable = true)\n",
      " |-- IsCityHotel: boolean (nullable = false)\n",
      " |-- MealVector: vector (nullable = true)\n",
      " |-- MarketSegmentVector: vector (nullable = true)\n",
      " |-- DistributionChannelVector: vector (nullable = true)\n",
      " |-- DepositTypeVector: vector (nullable = true)\n",
      " |-- CustomerTypeVector: vector (nullable = true)\n",
      " |-- ArrivalDateMonthVector: vector (nullable = true)\n",
      "\n"
     ]
    }
   ],
   "source": [
    "## after\n",
    "df_hotel.printSchema()"
   ]
  },
  {
   "cell_type": "code",
   "execution_count": 36,
   "metadata": {},
   "outputs": [],
   "source": [
    "## error: cannot store array in a CSV file\n",
    "# df_hotel.write.csv('hotel_merged_data_preparation.csv', sep = ',', mode = 'overwrite', header = True)"
   ]
  },
  {
   "cell_type": "markdown",
   "metadata": {},
   "source": [
    "# 4. Data Transformation\n",
    "\n",
    "## 4.1. Reduce the Data\n",
    "\n",
    "### 4.1.1. Feature Selection based on Logical Process\n",
    "\n",
    "- Remove Country to avoid bias\n",
    "- Remove Agent, Company (those are IDs)\n",
    "- Remove ArrivalDateYear\n",
    "- Remove redundant features (after variable constructions)"
   ]
  },
  {
   "cell_type": "code",
   "execution_count": 37,
   "metadata": {},
   "outputs": [],
   "source": [
    "dropped_cols = [\n",
    "    'Country','Agent','Company','ArrivalDateYear',\n",
    "    'Children','Babies','Meal','MarketSegment','DistributionChannel','CustomerType',\n",
    "    'DepositType','RequiredCarParkingSpaces','TotalOfSpecialRequests','ArrivalDateMonth',\n",
    "    'AssignedRoomType','ReservedRoomType'\n",
    "]\n",
    "\n",
    "df_hotel = df_hotel.drop(*dropped_cols)"
   ]
  },
  {
   "cell_type": "code",
   "execution_count": 38,
   "metadata": {},
   "outputs": [
    {
     "name": "stdout",
     "output_type": "stream",
     "text": [
      "Combined:  (119383, 24)\n"
     ]
    }
   ],
   "source": [
    "print(\"Combined: \", (df_hotel.count(), len(df_hotel.columns)))"
   ]
  },
  {
   "cell_type": "code",
   "execution_count": 39,
   "metadata": {
    "scrolled": true
   },
   "outputs": [
    {
     "name": "stdout",
     "output_type": "stream",
     "text": [
      "root\n",
      " |-- IsCanceled: integer (nullable = true)\n",
      " |-- LeadTime: integer (nullable = true)\n",
      " |-- ArrivalDateWeekNumber: integer (nullable = true)\n",
      " |-- ArrivalDateDayOfMonth: integer (nullable = true)\n",
      " |-- StaysInWeekendNights: integer (nullable = true)\n",
      " |-- StaysInWeekNights: integer (nullable = true)\n",
      " |-- Adults: integer (nullable = true)\n",
      " |-- IsRepeatedGuest: boolean (nullable = true)\n",
      " |-- PreviousCancellations: integer (nullable = true)\n",
      " |-- PreviousBookingsNotCanceled: integer (nullable = true)\n",
      " |-- DaysInWaitingList: integer (nullable = true)\n",
      " |-- ADR: double (nullable = true)\n",
      " |-- HasChild: boolean (nullable = false)\n",
      " |-- HasBaby: boolean (nullable = false)\n",
      " |-- RequireCarPark: boolean (nullable = false)\n",
      " |-- HasSpecialRequest: boolean (nullable = false)\n",
      " |-- IsReservedRoomTypeEqualToAssigned: boolean (nullable = true)\n",
      " |-- IsCityHotel: boolean (nullable = false)\n",
      " |-- MealVector: vector (nullable = true)\n",
      " |-- MarketSegmentVector: vector (nullable = true)\n",
      " |-- DistributionChannelVector: vector (nullable = true)\n",
      " |-- DepositTypeVector: vector (nullable = true)\n",
      " |-- CustomerTypeVector: vector (nullable = true)\n",
      " |-- ArrivalDateMonthVector: vector (nullable = true)\n",
      "\n"
     ]
    }
   ],
   "source": [
    "df_hotel.printSchema()"
   ]
  },
  {
   "cell_type": "markdown",
   "metadata": {},
   "source": [
    "### 4.1.2. Feature Selection\n"
   ]
  },
  {
   "cell_type": "code",
   "execution_count": 40,
   "metadata": {},
   "outputs": [],
   "source": [
    "## split train and test set before feature selection\n",
    "## to avoid information leakage\n",
    "RND = 722\n",
    "df_train, df_test = df_hotel.randomSplit(weights = [0.7, 0.3], seed = RND)"
   ]
  },
  {
   "cell_type": "code",
   "execution_count": 41,
   "metadata": {},
   "outputs": [],
   "source": [
    "def get_feature_importance_score(feature_importance, spark_df, feature_colname):\n",
    "    \"\"\"\n",
    "    Extract feature importance scores and combine them with the feature name.\n",
    "    \"\"\"\n",
    "    attributes_dict = spark_df.schema[feature_colname].metadata[\"ml_attr\"][\"attrs\"]\n",
    "    attributes_list = []\n",
    "    \n",
    "    for key in attributes_dict:\n",
    "        attributes_list = attributes_list + attributes_dict[key]\n",
    "    \n",
    "    df_attributes = pd.DataFrame(attributes_list)\n",
    "    df_attributes['score'] = df_attributes['idx'].apply(lambda x: feature_importance[x])\n",
    "    df_attributes = df_attributes.sort_values(\n",
    "        'score', \n",
    "        ascending = False\n",
    "    ).drop(\n",
    "        labels = 'idx', \n",
    "        axis = 1\n",
    "    )\n",
    "    \n",
    "    return df_attributes"
   ]
  },
  {
   "cell_type": "code",
   "execution_count": 42,
   "metadata": {},
   "outputs": [],
   "source": [
    "from pyspark.ml.classification import RandomForestClassifier\n",
    "from pyspark.ml.feature import VectorAssembler\n",
    "from pyspark.ml import Pipeline\n",
    "\n",
    "def calculate_feature_importance(spark_df, target_colname, feature_colname='features'):\n",
    "    \"\"\"\n",
    "    Calculate feature importance using Random Forest.\n",
    "    Return the spark dataframe with assembled feature vectors and \n",
    "    a Pandas dataframe containing the feature importance score.\n",
    "    \"\"\"\n",
    "    \n",
    "    assembler = VectorAssembler(\n",
    "        inputCols = [colname for colname in spark_df.columns if colname != target_colname],\n",
    "        outputCol = feature_colname\n",
    "    )\n",
    "\n",
    "    RND = 722\n",
    "    rf = RandomForestClassifier(\n",
    "        featuresCol = feature_colname,\n",
    "        labelCol = target_colname,\n",
    "        seed = RND,\n",
    "        subsamplingRate = 0.8\n",
    "    )\n",
    "    \n",
    "    pipeline = Pipeline(stages = [assembler, rf])\n",
    "    model = pipeline.fit(spark_df)\n",
    "    spark_df = model.transform(spark_df)\n",
    "    \n",
    "    df_feature_importance = get_feature_importance_score(\n",
    "        model.stages[-1].featureImportances, \n",
    "        spark_df, \n",
    "        \"features\"\n",
    "    )\n",
    "    \n",
    "    return spark_df, df_feature_importance"
   ]
  },
  {
   "cell_type": "code",
   "execution_count": 43,
   "metadata": {},
   "outputs": [],
   "source": [
    "df_train_feats, df_feature_importance = calculate_feature_importance(\n",
    "    df_train,\n",
    "    target_colname = 'IsCanceled',\n",
    "    feature_colname = 'features'\n",
    ")"
   ]
  },
  {
   "cell_type": "code",
   "execution_count": 44,
   "metadata": {},
   "outputs": [
    {
     "data": {
      "text/html": [
       "<div>\n",
       "<style scoped>\n",
       "    .dataframe tbody tr th:only-of-type {\n",
       "        vertical-align: middle;\n",
       "    }\n",
       "\n",
       "    .dataframe tbody tr th {\n",
       "        vertical-align: top;\n",
       "    }\n",
       "\n",
       "    .dataframe thead th {\n",
       "        text-align: right;\n",
       "    }\n",
       "</style>\n",
       "<table border=\"1\" class=\"dataframe\">\n",
       "  <thead>\n",
       "    <tr style=\"text-align: right;\">\n",
       "      <th></th>\n",
       "      <th>name</th>\n",
       "      <th>score</th>\n",
       "    </tr>\n",
       "  </thead>\n",
       "  <tbody>\n",
       "    <tr>\n",
       "      <th>30</th>\n",
       "      <td>DepositTypeVector_Non Refund</td>\n",
       "      <td>0.326462</td>\n",
       "    </tr>\n",
       "    <tr>\n",
       "      <th>29</th>\n",
       "      <td>DepositTypeVector_No Deposit</td>\n",
       "      <td>0.194692</td>\n",
       "    </tr>\n",
       "    <tr>\n",
       "      <th>0</th>\n",
       "      <td>LeadTime</td>\n",
       "      <td>0.095660</td>\n",
       "    </tr>\n",
       "    <tr>\n",
       "      <th>14</th>\n",
       "      <td>HasSpecialRequest</td>\n",
       "      <td>0.080402</td>\n",
       "    </tr>\n",
       "    <tr>\n",
       "      <th>15</th>\n",
       "      <td>IsReservedRoomTypeEqualToAssigned</td>\n",
       "      <td>0.063305</td>\n",
       "    </tr>\n",
       "    <tr>\n",
       "      <th>7</th>\n",
       "      <td>PreviousCancellations</td>\n",
       "      <td>0.058233</td>\n",
       "    </tr>\n",
       "    <tr>\n",
       "      <th>20</th>\n",
       "      <td>MarketSegmentVector_Online TA</td>\n",
       "      <td>0.024172</td>\n",
       "    </tr>\n",
       "    <tr>\n",
       "      <th>13</th>\n",
       "      <td>RequireCarPark</td>\n",
       "      <td>0.024093</td>\n",
       "    </tr>\n",
       "    <tr>\n",
       "      <th>32</th>\n",
       "      <td>CustomerTypeVector_Transient-Party</td>\n",
       "      <td>0.023126</td>\n",
       "    </tr>\n",
       "    <tr>\n",
       "      <th>26</th>\n",
       "      <td>DistributionChannelVector_TA/TO</td>\n",
       "      <td>0.021731</td>\n",
       "    </tr>\n",
       "    <tr>\n",
       "      <th>22</th>\n",
       "      <td>MarketSegmentVector_Groups</td>\n",
       "      <td>0.019146</td>\n",
       "    </tr>\n",
       "    <tr>\n",
       "      <th>27</th>\n",
       "      <td>DistributionChannelVector_Direct</td>\n",
       "      <td>0.013506</td>\n",
       "    </tr>\n",
       "    <tr>\n",
       "      <th>21</th>\n",
       "      <td>MarketSegmentVector_Offline TA/TO</td>\n",
       "      <td>0.009881</td>\n",
       "    </tr>\n",
       "    <tr>\n",
       "      <th>23</th>\n",
       "      <td>MarketSegmentVector_Direct</td>\n",
       "      <td>0.008501</td>\n",
       "    </tr>\n",
       "    <tr>\n",
       "      <th>10</th>\n",
       "      <td>ADR</td>\n",
       "      <td>0.006956</td>\n",
       "    </tr>\n",
       "    <tr>\n",
       "      <th>31</th>\n",
       "      <td>CustomerTypeVector_Transient</td>\n",
       "      <td>0.006451</td>\n",
       "    </tr>\n",
       "    <tr>\n",
       "      <th>5</th>\n",
       "      <td>Adults</td>\n",
       "      <td>0.004292</td>\n",
       "    </tr>\n",
       "    <tr>\n",
       "      <th>16</th>\n",
       "      <td>IsCityHotel</td>\n",
       "      <td>0.004128</td>\n",
       "    </tr>\n",
       "    <tr>\n",
       "      <th>1</th>\n",
       "      <td>ArrivalDateWeekNumber</td>\n",
       "      <td>0.002724</td>\n",
       "    </tr>\n",
       "    <tr>\n",
       "      <th>8</th>\n",
       "      <td>PreviousBookingsNotCanceled</td>\n",
       "      <td>0.002618</td>\n",
       "    </tr>\n",
       "    <tr>\n",
       "      <th>24</th>\n",
       "      <td>MarketSegmentVector_Corporate</td>\n",
       "      <td>0.002285</td>\n",
       "    </tr>\n",
       "    <tr>\n",
       "      <th>6</th>\n",
       "      <td>IsRepeatedGuest</td>\n",
       "      <td>0.001601</td>\n",
       "    </tr>\n",
       "    <tr>\n",
       "      <th>33</th>\n",
       "      <td>CustomerTypeVector_Contract</td>\n",
       "      <td>0.001450</td>\n",
       "    </tr>\n",
       "    <tr>\n",
       "      <th>3</th>\n",
       "      <td>StaysInWeekendNights</td>\n",
       "      <td>0.000938</td>\n",
       "    </tr>\n",
       "    <tr>\n",
       "      <th>2</th>\n",
       "      <td>ArrivalDateDayOfMonth</td>\n",
       "      <td>0.000732</td>\n",
       "    </tr>\n",
       "    <tr>\n",
       "      <th>18</th>\n",
       "      <td>MealVector_HB</td>\n",
       "      <td>0.000584</td>\n",
       "    </tr>\n",
       "    <tr>\n",
       "      <th>4</th>\n",
       "      <td>StaysInWeekNights</td>\n",
       "      <td>0.000576</td>\n",
       "    </tr>\n",
       "    <tr>\n",
       "      <th>34</th>\n",
       "      <td>ArrivalDateMonthVector_August</td>\n",
       "      <td>0.000371</td>\n",
       "    </tr>\n",
       "    <tr>\n",
       "      <th>11</th>\n",
       "      <td>HasChild</td>\n",
       "      <td>0.000363</td>\n",
       "    </tr>\n",
       "    <tr>\n",
       "      <th>28</th>\n",
       "      <td>DistributionChannelVector_Corporate</td>\n",
       "      <td>0.000166</td>\n",
       "    </tr>\n",
       "    <tr>\n",
       "      <th>37</th>\n",
       "      <td>ArrivalDateMonthVector_October</td>\n",
       "      <td>0.000157</td>\n",
       "    </tr>\n",
       "    <tr>\n",
       "      <th>17</th>\n",
       "      <td>MealVector_BB</td>\n",
       "      <td>0.000152</td>\n",
       "    </tr>\n",
       "    <tr>\n",
       "      <th>41</th>\n",
       "      <td>ArrivalDateMonthVector_March</td>\n",
       "      <td>0.000146</td>\n",
       "    </tr>\n",
       "    <tr>\n",
       "      <th>35</th>\n",
       "      <td>ArrivalDateMonthVector_July</td>\n",
       "      <td>0.000106</td>\n",
       "    </tr>\n",
       "    <tr>\n",
       "      <th>44</th>\n",
       "      <td>ArrivalDateMonthVector_December</td>\n",
       "      <td>0.000076</td>\n",
       "    </tr>\n",
       "    <tr>\n",
       "      <th>42</th>\n",
       "      <td>ArrivalDateMonthVector_February</td>\n",
       "      <td>0.000068</td>\n",
       "    </tr>\n",
       "    <tr>\n",
       "      <th>39</th>\n",
       "      <td>ArrivalDateMonthVector_June</td>\n",
       "      <td>0.000061</td>\n",
       "    </tr>\n",
       "    <tr>\n",
       "      <th>25</th>\n",
       "      <td>MarketSegmentVector_Complementary</td>\n",
       "      <td>0.000034</td>\n",
       "    </tr>\n",
       "    <tr>\n",
       "      <th>38</th>\n",
       "      <td>ArrivalDateMonthVector_April</td>\n",
       "      <td>0.000018</td>\n",
       "    </tr>\n",
       "    <tr>\n",
       "      <th>9</th>\n",
       "      <td>DaysInWaitingList</td>\n",
       "      <td>0.000017</td>\n",
       "    </tr>\n",
       "    <tr>\n",
       "      <th>19</th>\n",
       "      <td>MealVector_SC</td>\n",
       "      <td>0.000013</td>\n",
       "    </tr>\n",
       "    <tr>\n",
       "      <th>36</th>\n",
       "      <td>ArrivalDateMonthVector_May</td>\n",
       "      <td>0.000007</td>\n",
       "    </tr>\n",
       "    <tr>\n",
       "      <th>12</th>\n",
       "      <td>HasBaby</td>\n",
       "      <td>0.000000</td>\n",
       "    </tr>\n",
       "    <tr>\n",
       "      <th>40</th>\n",
       "      <td>ArrivalDateMonthVector_September</td>\n",
       "      <td>0.000000</td>\n",
       "    </tr>\n",
       "    <tr>\n",
       "      <th>43</th>\n",
       "      <td>ArrivalDateMonthVector_November</td>\n",
       "      <td>0.000000</td>\n",
       "    </tr>\n",
       "  </tbody>\n",
       "</table>\n",
       "</div>"
      ],
      "text/plain": [
       "                                   name     score\n",
       "30    DepositTypeVector_Non Refund       0.326462\n",
       "29    DepositTypeVector_No Deposit       0.194692\n",
       "0                              LeadTime  0.095660\n",
       "14                    HasSpecialRequest  0.080402\n",
       "15    IsReservedRoomTypeEqualToAssigned  0.063305\n",
       "7                 PreviousCancellations  0.058233\n",
       "20        MarketSegmentVector_Online TA  0.024172\n",
       "13                       RequireCarPark  0.024093\n",
       "32   CustomerTypeVector_Transient-Party  0.023126\n",
       "26      DistributionChannelVector_TA/TO  0.021731\n",
       "22           MarketSegmentVector_Groups  0.019146\n",
       "27     DistributionChannelVector_Direct  0.013506\n",
       "21    MarketSegmentVector_Offline TA/TO  0.009881\n",
       "23           MarketSegmentVector_Direct  0.008501\n",
       "10                                  ADR  0.006956\n",
       "31         CustomerTypeVector_Transient  0.006451\n",
       "5                                Adults  0.004292\n",
       "16                          IsCityHotel  0.004128\n",
       "1                 ArrivalDateWeekNumber  0.002724\n",
       "8           PreviousBookingsNotCanceled  0.002618\n",
       "24        MarketSegmentVector_Corporate  0.002285\n",
       "6                       IsRepeatedGuest  0.001601\n",
       "33          CustomerTypeVector_Contract  0.001450\n",
       "3                  StaysInWeekendNights  0.000938\n",
       "2                 ArrivalDateDayOfMonth  0.000732\n",
       "18                        MealVector_HB  0.000584\n",
       "4                     StaysInWeekNights  0.000576\n",
       "34        ArrivalDateMonthVector_August  0.000371\n",
       "11                             HasChild  0.000363\n",
       "28  DistributionChannelVector_Corporate  0.000166\n",
       "37       ArrivalDateMonthVector_October  0.000157\n",
       "17                        MealVector_BB  0.000152\n",
       "41         ArrivalDateMonthVector_March  0.000146\n",
       "35          ArrivalDateMonthVector_July  0.000106\n",
       "44      ArrivalDateMonthVector_December  0.000076\n",
       "42      ArrivalDateMonthVector_February  0.000068\n",
       "39          ArrivalDateMonthVector_June  0.000061\n",
       "25    MarketSegmentVector_Complementary  0.000034\n",
       "38         ArrivalDateMonthVector_April  0.000018\n",
       "9                     DaysInWaitingList  0.000017\n",
       "19                        MealVector_SC  0.000013\n",
       "36           ArrivalDateMonthVector_May  0.000007\n",
       "12                              HasBaby  0.000000\n",
       "40     ArrivalDateMonthVector_September  0.000000\n",
       "43      ArrivalDateMonthVector_November  0.000000"
      ]
     },
     "execution_count": 44,
     "metadata": {},
     "output_type": "execute_result"
    }
   ],
   "source": [
    "df_feature_importance"
   ]
  },
  {
   "cell_type": "markdown",
   "metadata": {},
   "source": [
    "Remove HasBaby and ArrivalDateMonthVector."
   ]
  },
  {
   "cell_type": "code",
   "execution_count": 45,
   "metadata": {},
   "outputs": [],
   "source": [
    "dropped_cols = ['HasBaby', 'ArrivalDateMonthVector']\n",
    "df_train = df_train.drop(*dropped_cols)\n",
    "df_test = df_test.drop(*dropped_cols)"
   ]
  },
  {
   "cell_type": "code",
   "execution_count": 46,
   "metadata": {},
   "outputs": [
    {
     "name": "stdout",
     "output_type": "stream",
     "text": [
      "Training set (83696, 22)\n",
      "Test set (35687, 22)\n"
     ]
    }
   ],
   "source": [
    "## check current dataframe shape\n",
    "print(\"Training set\", (df_train.count(), len(df_train.columns)))\n",
    "print(\"Test set\", (df_test.count(), len(df_test.columns)))"
   ]
  },
  {
   "cell_type": "code",
   "execution_count": 47,
   "metadata": {},
   "outputs": [],
   "source": [
    "## Store information about train test split\n",
    "df_train = df_train.withColumn('IsTestSet', F.lit(False))\n",
    "df_test = df_test.withColumn('IsTetsSet', F.lit(True))\n",
    "\n",
    "## Combine them back\n",
    "df_hotel = df_train.union(df_test)"
   ]
  },
  {
   "cell_type": "code",
   "execution_count": 48,
   "metadata": {},
   "outputs": [
    {
     "name": "stdout",
     "output_type": "stream",
     "text": [
      "Current dataset (119383, 23)\n"
     ]
    }
   ],
   "source": [
    "print(\"Current dataset\", (df_hotel.count(), len(df_hotel.columns)))"
   ]
  },
  {
   "cell_type": "markdown",
   "metadata": {},
   "source": [
    "## 4.2. Project the Data\n",
    "\n",
    "### 4.2.1. Transform the values\n",
    "\n",
    "Log transformation on LeadTime & ADR"
   ]
  },
  {
   "cell_type": "code",
   "execution_count": 49,
   "metadata": {},
   "outputs": [
    {
     "data": {
      "image/png": "[encoded data removed]",
      "text/plain": [
       "<Figure size 1152x288 with 2 Axes>"
      ]
     },
     "metadata": {
      "needs_background": "light"
     },
     "output_type": "display_data"
    }
   ],
   "source": [
    "## before log transformation\n",
    "f, ax = plt.subplots(figsize = (16,4), ncols = 2)\n",
    "plt.subplots_adjust(wspace = .25)\n",
    "\n",
    "i = 0\n",
    "for colname in ['LeadTime', 'ADR']:\n",
    "    values = df_hotel.select(colname).toPandas()[colname]\n",
    "    \n",
    "    sns.kdeplot(\n",
    "        values,\n",
    "        ax = ax[i]\n",
    "    )\n",
    "    \n",
    "    ax[i].set_xlabel(colname)\n",
    "    i += 1\n",
    "    \n",
    "sns.despine();"
   ]
  },
  {
   "cell_type": "code",
   "execution_count": 50,
   "metadata": {},
   "outputs": [],
   "source": [
    "from pyspark.sql.functions import log10\n",
    "\n",
    "for colname in ['LeadTime', 'ADR']:\n",
    "    ## add 1 to prevent division by zero\n",
    "    df_hotel = df_hotel.withColumn(\n",
    "        colname, \n",
    "        log10(F.col(colname) + 1)\n",
    "    )"
   ]
  },
  {
   "cell_type": "code",
   "execution_count": 51,
   "metadata": {},
   "outputs": [
    {
     "data": {
      "image/png": "[encoded data removed]",
      "text/plain": [
       "<Figure size 1152x288 with 2 Axes>"
      ]
     },
     "metadata": {
      "needs_background": "light"
     },
     "output_type": "display_data"
    }
   ],
   "source": [
    "## after log transformation\n",
    "f, ax = plt.subplots(figsize = (16,4), ncols = 2)\n",
    "plt.subplots_adjust(wspace = .25)\n",
    "\n",
    "i = 0\n",
    "for colname in ['LeadTime', 'ADR']:\n",
    "    values = df_hotel.select(colname).toPandas()[colname]\n",
    "    \n",
    "    sns.kdeplot(\n",
    "        values,\n",
    "        ax = ax[i]\n",
    "    )\n",
    "    \n",
    "    ax[i].set_xlabel(colname)\n",
    "    i += 1\n",
    "    \n",
    "sns.despine();"
   ]
  },
  {
   "cell_type": "markdown",
   "metadata": {},
   "source": [
    "### 4.2.2. Balance the dataset\n",
    "\n",
    "Oversample the **training set** via random sampling since we do not find a SMOTE implementation yet in Pyspark. [https://github.com/alivcor/SMORK](SMORK) only provides an implementation of SMOTE in Spark Scala API.\n",
    "\n",
    "The oversampling is only performed on the training set."
   ]
  },
  {
   "cell_type": "code",
   "execution_count": 52,
   "metadata": {},
   "outputs": [],
   "source": [
    "## split the dataframe based on previous train-test-split\n",
    "df_train = df_hotel.filter('IsTestSet == False')\n",
    "df_test = df_hotel.filter('IsTestSet == True')"
   ]
  },
  {
   "cell_type": "code",
   "execution_count": 53,
   "metadata": {},
   "outputs": [
    {
     "name": "stdout",
     "output_type": "stream",
     "text": [
      "Majority 52684\n",
      "Minority 31012\n",
      "Ratio 1.6988262608022702\n"
     ]
    }
   ],
   "source": [
    "print(\"Majority\", df_train.filter('IsCanceled == 0').count())\n",
    "print(\"Minority\", df_train.filter('IsCanceled == 1').count())\n",
    "print(\"Ratio\", df_train.filter('IsCanceled == 0').count() / df_train.filter('IsCanceled == 1').count())"
   ]
  },
  {
   "cell_type": "code",
   "execution_count": 54,
   "metadata": {},
   "outputs": [
    {
     "data": {
      "text/plain": [
       "21629"
      ]
     },
     "execution_count": 54,
     "metadata": {},
     "output_type": "execute_result"
    }
   ],
   "source": [
    "RND = 722\n",
    "\n",
    "additional_training_data = df_train.filter('IsCanceled == 1').sample(\n",
    "    withReplacement = True,\n",
    "    seed = RND,\n",
    "    fraction = 0.7\n",
    ")\n",
    "\n",
    "additional_training_data.count()"
   ]
  },
  {
   "cell_type": "code",
   "execution_count": 55,
   "metadata": {},
   "outputs": [],
   "source": [
    "df_train_oversampled = df_train.union(additional_training_data)"
   ]
  },
  {
   "cell_type": "code",
   "execution_count": 56,
   "metadata": {},
   "outputs": [
    {
     "data": {
      "image/png": "[encoded data removed]",
      "text/plain": [
       "<Figure size 1152x288 with 2 Axes>"
      ]
     },
     "metadata": {
      "needs_background": "light"
     },
     "output_type": "display_data"
    }
   ],
   "source": [
    "f, ax = plt.subplots(figsize = (16,4), ncols = 2)\n",
    "plt.subplots_adjust(wspace = .25)\n",
    "\n",
    "df_train.select('IsCanceled').toPandas()['IsCanceled'].value_counts(True).plot.barh(ax=ax[0]);\n",
    "df_train_oversampled.select('IsCanceled').toPandas()['IsCanceled'].value_counts().plot.barh(ax=ax[1]);\n",
    "\n",
    "ax[0].set_title(\"Training data: before oversampling\")\n",
    "ax[0].set_ylabel(\"IsCanceled\")\n",
    "ax[0].set_xlabel(\"Proportion\")\n",
    "\n",
    "ax[1].set_title(\"Training data: after oversampling\")\n",
    "ax[1].set_ylabel(\"IsCanceled\")\n",
    "ax[1].set_xlabel(\"Proportion\")\n",
    "sns.despine();"
   ]
  },
  {
   "cell_type": "code",
   "execution_count": 57,
   "metadata": {},
   "outputs": [
    {
     "name": "stdout",
     "output_type": "stream",
     "text": [
      "Training data before oversampling: 83,696 records\n",
      "Training data after oversampling: 105,325 records\n"
     ]
    }
   ],
   "source": [
    "print(\"Training data before oversampling: {:,.0f} records\".format(df_train.count()))\n",
    "print(\"Training data after oversampling: {:,.0f} records\".format(df_train_oversampled.count()))"
   ]
  },
  {
   "cell_type": "markdown",
   "metadata": {},
   "source": [
    "Combine the training and test data into a dataframe."
   ]
  },
  {
   "cell_type": "code",
   "execution_count": 58,
   "metadata": {},
   "outputs": [
    {
     "name": "stdout",
     "output_type": "stream",
     "text": [
      "Current dataset: 141,012 records with 23 columns\n"
     ]
    }
   ],
   "source": [
    "df_hotel_transformed = df_train_oversampled.union(df_test)\n",
    "print(\"Current dataset: {:,.0f} records with {} columns\".format(\n",
    "    df_hotel_transformed.count(), \n",
    "    len(df_hotel_transformed.columns)\n",
    "))"
   ]
  },
  {
   "cell_type": "code",
   "execution_count": 59,
   "metadata": {},
   "outputs": [],
   "source": [
    "## remove objects from memory\n",
    "del df_hotel, df_feature_importance, df_train"
   ]
  },
  {
   "cell_type": "code",
   "execution_count": 60,
   "metadata": {},
   "outputs": [],
   "source": [
    "## error: cannot store array in a CSV file\n",
    "# df_hotel_transformed.write.csv('hotel_merged_data_transformation.csv', sep = ',', mode = 'overwrite', header = True)"
   ]
  },
  {
   "cell_type": "code",
   "execution_count": 61,
   "metadata": {
    "scrolled": false
   },
   "outputs": [
    {
     "data": {
      "image/png": "[encoded data removed]",
      "text/plain": [
       "<Figure size 1152x1440 with 10 Axes>"
      ]
     },
     "metadata": {
      "needs_background": "light"
     },
     "output_type": "display_data"
    }
   ],
   "source": [
    "## plot the distribution of numeric values in the current dataset\n",
    "## exclude the target class\n",
    "cols = [\n",
    "    item[0] for item in df_hotel_transformed.dtypes if (\n",
    "        (item[1] != 'vector') & (item[1] != 'boolean') & (item[0] != 'IsCanceled')\n",
    "    )\n",
    "]\n",
    "\n",
    "f, ax = plt.subplots(figsize = (16, 20), ncols = 2, nrows = 5)\n",
    "plt.subplots_adjust(wspace = .25, hspace = .5)\n",
    "\n",
    "i = 0\n",
    "j = 0\n",
    "\n",
    "for col in cols:\n",
    "    sns.kdeplot(\n",
    "        data = df_hotel_transformed.select([col, 'IsCanceled']).toPandas(),\n",
    "        x = col,\n",
    "        hue = 'IsCanceled',\n",
    "        ax = ax[i][j]\n",
    "    )\n",
    "    ax[i][j].set_xlabel(col)\n",
    "    \n",
    "    if j == 1:\n",
    "        i += 1\n",
    "        j = 0\n",
    "    else:\n",
    "        j += 1\n",
    "        \n",
    "sns.despine();"
   ]
  }
 ],
 "metadata": {
  "kernelspec": {
   "display_name": "pykernel",
   "language": "python",
   "name": "pykernel"
  },
  "language_info": {
   "codemirror_mode": {
    "name": "ipython",
    "version": 3
   },
   "file_extension": ".py",
   "mimetype": "text/x-python",
   "name": "python",
   "nbconvert_exporter": "python",
   "pygments_lexer": "ipython3",
   "version": "3.8.3"
  }
 },
 "nbformat": 4,
 "nbformat_minor": 4
}
