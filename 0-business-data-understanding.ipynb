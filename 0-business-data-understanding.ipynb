{
 "cells": [
  {
   "cell_type": "code",
   "execution_count": 81,
   "metadata": {},
   "outputs": [],
   "source": [
    "import seaborn as sns\n",
    "import matplotlib.pyplot as plt\n",
    "import matplotlib.ticker as mtick\n",
    "import numpy as np\n",
    "import pandas as pd\n",
    "\n",
    "sns.set_context('talk')"
   ]
  },
  {
   "cell_type": "markdown",
   "metadata": {},
   "source": [
    "# 1. Business Understanding\n",
    "\n",
    "Data mining objectives:\n",
    "- identify key features that are associated with cancelled bookings\n",
    "- create a model to predict booking cancellation\n",
    "\n",
    "Aim: $\\geq$ 80% accuracy"
   ]
  },
  {
   "cell_type": "markdown",
   "metadata": {},
   "source": [
    "# 2. Data Understanding\n",
    "\n",
    "## 2.1. Data Collection\n",
    "\n",
    "Source: [hotel demand datasets](https://ars.els-cdn.com/content/image/1-s2.0-S2352340918315191-mmc2.zip) from Antonio, et al. (2019).\n",
    "\n",
    "Paper: Antonio, N., De Almeida, A., & Nunes, L. (2019). Hotel booking demand datasets. Data in Brief, 22, 41-49. https://doi.org/10.1016/j.dib.2018.11.126\n",
    "\n",
    "## 2.2. Data Description"
   ]
  },
  {
   "cell_type": "code",
   "execution_count": 2,
   "metadata": {},
   "outputs": [
    {
     "name": "stderr",
     "output_type": "stream",
     "text": [
      "/home/ubuntu/spark-2.1.1-bin-hadoop2.7/python/pyspark/cloudpickle.py:365: SyntaxWarning: \"is\" with a literal. Did you mean \"==\"?\n",
      "  if obj.__module__ is \"__builtin__\":\n"
     ]
    }
   ],
   "source": [
    "import findspark\n",
    "findspark.init('/home/ubuntu/spark-2.1.1-bin-hadoop2.7')\n",
    "import pyspark\n",
    "from pyspark.sql import SparkSession\n",
    "spark = SparkSession.builder.appName('business-data-understanding').getOrCreate()"
   ]
  },
  {
   "cell_type": "code",
   "execution_count": 3,
   "metadata": {},
   "outputs": [],
   "source": [
    "# Import data with automatically configured schema\n",
    "df_h1 = spark.read.csv('H1.csv', header=True, inferSchema=True)\n",
    "df_h2 = spark.read.csv('H2.csv', header=True, inferSchema=True)"
   ]
  },
  {
   "cell_type": "markdown",
   "metadata": {},
   "source": [
    "### Preview of the dataset"
   ]
  },
  {
   "cell_type": "code",
   "execution_count": 4,
   "metadata": {},
   "outputs": [
    {
     "name": "stdout",
     "output_type": "stream",
     "text": [
      "root\n",
      " |-- IsCanceled: integer (nullable = true)\n",
      " |-- LeadTime: integer (nullable = true)\n",
      " |-- ArrivalDateYear: integer (nullable = true)\n",
      " |-- ArrivalDateMonth: string (nullable = true)\n",
      " |-- ArrivalDateWeekNumber: integer (nullable = true)\n",
      " |-- ArrivalDateDayOfMonth: integer (nullable = true)\n",
      " |-- StaysInWeekendNights: integer (nullable = true)\n",
      " |-- StaysInWeekNights: integer (nullable = true)\n",
      " |-- Adults: integer (nullable = true)\n",
      " |-- Children: integer (nullable = true)\n",
      " |-- Babies: integer (nullable = true)\n",
      " |-- Meal: string (nullable = true)\n",
      " |-- Country: string (nullable = true)\n",
      " |-- MarketSegment: string (nullable = true)\n",
      " |-- DistributionChannel: string (nullable = true)\n",
      " |-- IsRepeatedGuest: double (nullable = true)\n",
      " |-- PreviousCancellations: integer (nullable = true)\n",
      " |-- PreviousBookingsNotCanceled: integer (nullable = true)\n",
      " |-- ReservedRoomType: string (nullable = true)\n",
      " |-- AssignedRoomType: string (nullable = true)\n",
      " |-- BookingChanges: integer (nullable = true)\n",
      " |-- DepositType: string (nullable = true)\n",
      " |-- Agent: string (nullable = true)\n",
      " |-- Company: string (nullable = true)\n",
      " |-- DaysInWaitingList: integer (nullable = true)\n",
      " |-- CustomerType: string (nullable = true)\n",
      " |-- ADR: double (nullable = true)\n",
      " |-- RequiredCarParkingSpaces: integer (nullable = true)\n",
      " |-- TotalOfSpecialRequests: integer (nullable = true)\n",
      " |-- ReservationStatus: string (nullable = true)\n",
      " |-- ReservationStatusDate: timestamp (nullable = true)\n",
      "\n"
     ]
    }
   ],
   "source": [
    "df_h1.printSchema()"
   ]
  },
  {
   "cell_type": "code",
   "execution_count": 5,
   "metadata": {},
   "outputs": [
    {
     "name": "stdout",
     "output_type": "stream",
     "text": [
      "root\n",
      " |-- IsCanceled: integer (nullable = true)\n",
      " |-- LeadTime: integer (nullable = true)\n",
      " |-- ArrivalDateYear: integer (nullable = true)\n",
      " |-- ArrivalDateMonth: string (nullable = true)\n",
      " |-- ArrivalDateWeekNumber: integer (nullable = true)\n",
      " |-- ArrivalDateDayOfMonth: integer (nullable = true)\n",
      " |-- StaysInWeekendNights: integer (nullable = true)\n",
      " |-- StaysInWeekNights: integer (nullable = true)\n",
      " |-- Adults: integer (nullable = true)\n",
      " |-- Children: string (nullable = true)\n",
      " |-- Babies: integer (nullable = true)\n",
      " |-- Meal: string (nullable = true)\n",
      " |-- Country: string (nullable = true)\n",
      " |-- MarketSegment: string (nullable = true)\n",
      " |-- DistributionChannel: string (nullable = true)\n",
      " |-- IsRepeatedGuest: double (nullable = true)\n",
      " |-- PreviousCancellations: integer (nullable = true)\n",
      " |-- PreviousBookingsNotCanceled: integer (nullable = true)\n",
      " |-- ReservedRoomType: string (nullable = true)\n",
      " |-- AssignedRoomType: string (nullable = true)\n",
      " |-- BookingChanges: integer (nullable = true)\n",
      " |-- DepositType: string (nullable = true)\n",
      " |-- Agent: string (nullable = true)\n",
      " |-- Company: string (nullable = true)\n",
      " |-- DaysInWaitingList: integer (nullable = true)\n",
      " |-- CustomerType: string (nullable = true)\n",
      " |-- ADR: double (nullable = true)\n",
      " |-- RequiredCarParkingSpaces: integer (nullable = true)\n",
      " |-- TotalOfSpecialRequests: integer (nullable = true)\n",
      " |-- ReservationStatus: string (nullable = true)\n",
      " |-- ReservationStatusDate: timestamp (nullable = true)\n",
      "\n"
     ]
    }
   ],
   "source": [
    "df_h2.printSchema()"
   ]
  },
  {
   "cell_type": "code",
   "execution_count": 6,
   "metadata": {},
   "outputs": [
    {
     "data": {
      "text/plain": [
       "{'IsCanceled': 0,\n",
       " 'LeadTime': 342,\n",
       " 'ArrivalDateYear': 2015,\n",
       " 'ArrivalDateMonth': 'July',\n",
       " 'ArrivalDateWeekNumber': 27,\n",
       " 'ArrivalDateDayOfMonth': 1,\n",
       " 'StaysInWeekendNights': 0,\n",
       " 'StaysInWeekNights': 0,\n",
       " 'Adults': 2,\n",
       " 'Children': 0,\n",
       " 'Babies': 0,\n",
       " 'Meal': 'BB       ',\n",
       " 'Country': 'PRT',\n",
       " 'MarketSegment': 'Direct',\n",
       " 'DistributionChannel': 'Direct',\n",
       " 'IsRepeatedGuest': 0.0,\n",
       " 'PreviousCancellations': 0,\n",
       " 'PreviousBookingsNotCanceled': 0,\n",
       " 'ReservedRoomType': 'C               ',\n",
       " 'AssignedRoomType': 'C               ',\n",
       " 'BookingChanges': 3,\n",
       " 'DepositType': 'No Deposit     ',\n",
       " 'Agent': '       NULL',\n",
       " 'Company': '       NULL',\n",
       " 'DaysInWaitingList': 0,\n",
       " 'CustomerType': 'Transient',\n",
       " 'ADR': 0.0,\n",
       " 'RequiredCarParkingSpaces': 0,\n",
       " 'TotalOfSpecialRequests': 0,\n",
       " 'ReservationStatus': 'Check-Out',\n",
       " 'ReservationStatusDate': datetime.datetime(2015, 7, 1, 0, 0)}"
      ]
     },
     "execution_count": 6,
     "metadata": {},
     "output_type": "execute_result"
    }
   ],
   "source": [
    "df_h1.head(1)[0].asDict()"
   ]
  },
  {
   "cell_type": "code",
   "execution_count": 7,
   "metadata": {},
   "outputs": [
    {
     "data": {
      "text/plain": [
       "{'IsCanceled': 0,\n",
       " 'LeadTime': 6,\n",
       " 'ArrivalDateYear': 2015,\n",
       " 'ArrivalDateMonth': 'July',\n",
       " 'ArrivalDateWeekNumber': 27,\n",
       " 'ArrivalDateDayOfMonth': 1,\n",
       " 'StaysInWeekendNights': 0,\n",
       " 'StaysInWeekNights': 2,\n",
       " 'Adults': 1,\n",
       " 'Children': '0',\n",
       " 'Babies': 0,\n",
       " 'Meal': 'HB       ',\n",
       " 'Country': 'PRT',\n",
       " 'MarketSegment': 'Offline TA/TO',\n",
       " 'DistributionChannel': 'TA/TO',\n",
       " 'IsRepeatedGuest': 0.0,\n",
       " 'PreviousCancellations': 0,\n",
       " 'PreviousBookingsNotCanceled': 0,\n",
       " 'ReservedRoomType': 'A               ',\n",
       " 'AssignedRoomType': 'A               ',\n",
       " 'BookingChanges': 0,\n",
       " 'DepositType': 'No Deposit     ',\n",
       " 'Agent': '          6',\n",
       " 'Company': '       NULL',\n",
       " 'DaysInWaitingList': 0,\n",
       " 'CustomerType': 'Transient',\n",
       " 'ADR': 0.0,\n",
       " 'RequiredCarParkingSpaces': 0,\n",
       " 'TotalOfSpecialRequests': 0,\n",
       " 'ReservationStatus': 'Check-Out',\n",
       " 'ReservationStatusDate': datetime.datetime(2015, 7, 3, 0, 0)}"
      ]
     },
     "execution_count": 7,
     "metadata": {},
     "output_type": "execute_result"
    }
   ],
   "source": [
    "df_h2.head(1)[0].asDict()"
   ]
  },
  {
   "cell_type": "markdown",
   "metadata": {},
   "source": [
    "### Generate summary statistics\n",
    "\n",
    "We only compute summary of numeric columns that are considered meaningful in our analysis."
   ]
  },
  {
   "cell_type": "code",
   "execution_count": 8,
   "metadata": {},
   "outputs": [],
   "source": [
    "excluded_cols = [\n",
    "    'IsCanceled','ArrivalDateYear','ArrivalDateWeekNumber',\n",
    "    'ArrivalDateDayOfMonth','IsRepeatedGuest','BookingChanges'\n",
    "]\n",
    "\n",
    "numeric_cols = [item[0] for item in df_h1.dtypes if (item[1] != 'string') & (item[1] != 'timestamp')]\n",
    "selected_cols = list(set(numeric_cols) - set(excluded_cols))\n",
    "\n",
    "## generate summary statistics using describe()\n",
    "## returns count, mean, stddev, min, max\n",
    "df_desc_h1 = df_h1.select(selected_cols).describe().toPandas().set_index(\"summary\").transpose()\n",
    "df_desc_h2 = df_h2.select(selected_cols).describe().toPandas().set_index(\"summary\").transpose()"
   ]
  },
  {
   "cell_type": "code",
   "execution_count": 9,
   "metadata": {},
   "outputs": [],
   "source": [
    "from pyspark.sql import SQLContext\n",
    "\n",
    "sql_con = SQLContext(spark)\n",
    "df_h1.createOrReplaceTempView('df_h1')\n",
    "df_h2.createOrReplaceTempView('df_h2')\n",
    "\n",
    "h1_median = {}\n",
    "h2_median = {}\n",
    "\n",
    "## calculate median of the relevant columns\n",
    "for src in ['df_h1', 'df_h2']:\n",
    "    for col in selected_cols:\n",
    "        MEDIAN_QUERY = \"select percentile_approx({0}, 0.5) as {0} from {1}\".format(col, src)\n",
    "        val = sql_con.sql(MEDIAN_QUERY).collect()[0][0]\n",
    "        if 'h1' in src:\n",
    "            h1_median[col] = val\n",
    "        else:\n",
    "            h2_median[col] = val\n",
    "            \n",
    "df_median_h1 = pd.DataFrame(h1_median, index=['median']).transpose()\n",
    "df_median_h2 = pd.DataFrame(h2_median, index=['median']).transpose()"
   ]
  },
  {
   "cell_type": "code",
   "execution_count": 10,
   "metadata": {},
   "outputs": [
    {
     "data": {
      "text/html": [
       "<div>\n",
       "<style scoped>\n",
       "    .dataframe tbody tr th:only-of-type {\n",
       "        vertical-align: middle;\n",
       "    }\n",
       "\n",
       "    .dataframe tbody tr th {\n",
       "        vertical-align: top;\n",
       "    }\n",
       "\n",
       "    .dataframe thead th {\n",
       "        text-align: right;\n",
       "    }\n",
       "</style>\n",
       "<table border=\"1\" class=\"dataframe\">\n",
       "  <thead>\n",
       "    <tr style=\"text-align: right;\">\n",
       "      <th></th>\n",
       "      <th>count</th>\n",
       "      <th>mean</th>\n",
       "      <th>stddev</th>\n",
       "      <th>min</th>\n",
       "      <th>max</th>\n",
       "      <th>median</th>\n",
       "    </tr>\n",
       "  </thead>\n",
       "  <tbody>\n",
       "    <tr>\n",
       "      <th>StaysInWeekendNights</th>\n",
       "      <td>40060</td>\n",
       "      <td>1.1898152770843735</td>\n",
       "      <td>1.1478121986554535</td>\n",
       "      <td>0</td>\n",
       "      <td>19</td>\n",
       "      <td>1.0</td>\n",
       "    </tr>\n",
       "    <tr>\n",
       "      <th>ADR</th>\n",
       "      <td>40060</td>\n",
       "      <td>94.95292960559225</td>\n",
       "      <td>61.44241797380695</td>\n",
       "      <td>-6.38</td>\n",
       "      <td>508.0</td>\n",
       "      <td>75.0</td>\n",
       "    </tr>\n",
       "    <tr>\n",
       "      <th>Adults</th>\n",
       "      <td>40060</td>\n",
       "      <td>1.8671492760858712</td>\n",
       "      <td>0.6972854908686615</td>\n",
       "      <td>0</td>\n",
       "      <td>55</td>\n",
       "      <td>2.0</td>\n",
       "    </tr>\n",
       "    <tr>\n",
       "      <th>Children</th>\n",
       "      <td>40060</td>\n",
       "      <td>0.12868197703444834</td>\n",
       "      <td>0.4451952010391827</td>\n",
       "      <td>0</td>\n",
       "      <td>10</td>\n",
       "      <td>0.0</td>\n",
       "    </tr>\n",
       "    <tr>\n",
       "      <th>PreviousBookingsNotCanceled</th>\n",
       "      <td>40060</td>\n",
       "      <td>0.1464553170244633</td>\n",
       "      <td>1.0019545373196967</td>\n",
       "      <td>0</td>\n",
       "      <td>30</td>\n",
       "      <td>0.0</td>\n",
       "    </tr>\n",
       "    <tr>\n",
       "      <th>LeadTime</th>\n",
       "      <td>40060</td>\n",
       "      <td>92.67568647029456</td>\n",
       "      <td>97.28531530975067</td>\n",
       "      <td>0</td>\n",
       "      <td>737</td>\n",
       "      <td>57.0</td>\n",
       "    </tr>\n",
       "    <tr>\n",
       "      <th>StaysInWeekNights</th>\n",
       "      <td>40060</td>\n",
       "      <td>3.1287319021467797</td>\n",
       "      <td>2.4613294130121455</td>\n",
       "      <td>0</td>\n",
       "      <td>50</td>\n",
       "      <td>3.0</td>\n",
       "    </tr>\n",
       "    <tr>\n",
       "      <th>PreviousCancellations</th>\n",
       "      <td>40060</td>\n",
       "      <td>0.10172241637543684</td>\n",
       "      <td>1.335115273286218</td>\n",
       "      <td>0</td>\n",
       "      <td>26</td>\n",
       "      <td>0.0</td>\n",
       "    </tr>\n",
       "    <tr>\n",
       "      <th>DaysInWaitingList</th>\n",
       "      <td>40060</td>\n",
       "      <td>0.5277583624563156</td>\n",
       "      <td>7.428580429792779</td>\n",
       "      <td>0</td>\n",
       "      <td>185</td>\n",
       "      <td>0.0</td>\n",
       "    </tr>\n",
       "    <tr>\n",
       "      <th>TotalOfSpecialRequests</th>\n",
       "      <td>40060</td>\n",
       "      <td>0.6197703444832751</td>\n",
       "      <td>0.8139295959314988</td>\n",
       "      <td>0</td>\n",
       "      <td>5</td>\n",
       "      <td>0.0</td>\n",
       "    </tr>\n",
       "    <tr>\n",
       "      <th>Babies</th>\n",
       "      <td>40060</td>\n",
       "      <td>0.013904143784323515</td>\n",
       "      <td>0.11899789100299267</td>\n",
       "      <td>0</td>\n",
       "      <td>2</td>\n",
       "      <td>0.0</td>\n",
       "    </tr>\n",
       "    <tr>\n",
       "      <th>RequiredCarParkingSpaces</th>\n",
       "      <td>40060</td>\n",
       "      <td>0.13806789815277085</td>\n",
       "      <td>0.35100133692566204</td>\n",
       "      <td>0</td>\n",
       "      <td>8</td>\n",
       "      <td>0.0</td>\n",
       "    </tr>\n",
       "  </tbody>\n",
       "</table>\n",
       "</div>"
      ],
      "text/plain": [
       "                             count                  mean               stddev  \\\n",
       "StaysInWeekendNights         40060    1.1898152770843735   1.1478121986554535   \n",
       "ADR                          40060     94.95292960559225    61.44241797380695   \n",
       "Adults                       40060    1.8671492760858712   0.6972854908686615   \n",
       "Children                     40060   0.12868197703444834   0.4451952010391827   \n",
       "PreviousBookingsNotCanceled  40060    0.1464553170244633   1.0019545373196967   \n",
       "LeadTime                     40060     92.67568647029456    97.28531530975067   \n",
       "StaysInWeekNights            40060    3.1287319021467797   2.4613294130121455   \n",
       "PreviousCancellations        40060   0.10172241637543684    1.335115273286218   \n",
       "DaysInWaitingList            40060    0.5277583624563156    7.428580429792779   \n",
       "TotalOfSpecialRequests       40060    0.6197703444832751   0.8139295959314988   \n",
       "Babies                       40060  0.013904143784323515  0.11899789100299267   \n",
       "RequiredCarParkingSpaces     40060   0.13806789815277085  0.35100133692566204   \n",
       "\n",
       "                               min    max  median  \n",
       "StaysInWeekendNights             0     19     1.0  \n",
       "ADR                          -6.38  508.0    75.0  \n",
       "Adults                           0     55     2.0  \n",
       "Children                         0     10     0.0  \n",
       "PreviousBookingsNotCanceled      0     30     0.0  \n",
       "LeadTime                         0    737    57.0  \n",
       "StaysInWeekNights                0     50     3.0  \n",
       "PreviousCancellations            0     26     0.0  \n",
       "DaysInWaitingList                0    185     0.0  \n",
       "TotalOfSpecialRequests           0      5     0.0  \n",
       "Babies                           0      2     0.0  \n",
       "RequiredCarParkingSpaces         0      8     0.0  "
      ]
     },
     "metadata": {},
     "output_type": "display_data"
    },
    {
     "data": {
      "text/html": [
       "<div>\n",
       "<style scoped>\n",
       "    .dataframe tbody tr th:only-of-type {\n",
       "        vertical-align: middle;\n",
       "    }\n",
       "\n",
       "    .dataframe tbody tr th {\n",
       "        vertical-align: top;\n",
       "    }\n",
       "\n",
       "    .dataframe thead th {\n",
       "        text-align: right;\n",
       "    }\n",
       "</style>\n",
       "<table border=\"1\" class=\"dataframe\">\n",
       "  <thead>\n",
       "    <tr style=\"text-align: right;\">\n",
       "      <th></th>\n",
       "      <th>count</th>\n",
       "      <th>mean</th>\n",
       "      <th>stddev</th>\n",
       "      <th>min</th>\n",
       "      <th>max</th>\n",
       "      <th>median</th>\n",
       "    </tr>\n",
       "  </thead>\n",
       "  <tbody>\n",
       "    <tr>\n",
       "      <th>StaysInWeekendNights</th>\n",
       "      <td>79330</td>\n",
       "      <td>0.7951846716248582</td>\n",
       "      <td>0.8850263827567242</td>\n",
       "      <td>0</td>\n",
       "      <td>16</td>\n",
       "      <td>1.0</td>\n",
       "    </tr>\n",
       "    <tr>\n",
       "      <th>ADR</th>\n",
       "      <td>79330</td>\n",
       "      <td>105.3044653977023</td>\n",
       "      <td>43.60295383709472</td>\n",
       "      <td>0.0</td>\n",
       "      <td>5400.0</td>\n",
       "      <td>99.9</td>\n",
       "    </tr>\n",
       "    <tr>\n",
       "      <th>Adults</th>\n",
       "      <td>79330</td>\n",
       "      <td>1.8509769318038574</td>\n",
       "      <td>0.5092923075822537</td>\n",
       "      <td>0</td>\n",
       "      <td>4</td>\n",
       "      <td>2.0</td>\n",
       "    </tr>\n",
       "    <tr>\n",
       "      <th>Children</th>\n",
       "      <td>79330</td>\n",
       "      <td>0.09136979048483473</td>\n",
       "      <td>0.37217686997893606</td>\n",
       "      <td>0</td>\n",
       "      <td>NA</td>\n",
       "      <td>0.0</td>\n",
       "    </tr>\n",
       "    <tr>\n",
       "      <th>PreviousBookingsNotCanceled</th>\n",
       "      <td>79330</td>\n",
       "      <td>0.13237110802974916</td>\n",
       "      <td>1.6934106009564729</td>\n",
       "      <td>0</td>\n",
       "      <td>72</td>\n",
       "      <td>0.0</td>\n",
       "    </tr>\n",
       "    <tr>\n",
       "      <th>LeadTime</th>\n",
       "      <td>79330</td>\n",
       "      <td>109.73572419009201</td>\n",
       "      <td>110.94852576365864</td>\n",
       "      <td>0</td>\n",
       "      <td>629</td>\n",
       "      <td>74.0</td>\n",
       "    </tr>\n",
       "    <tr>\n",
       "      <th>StaysInWeekNights</th>\n",
       "      <td>79330</td>\n",
       "      <td>2.1829572671120636</td>\n",
       "      <td>1.456416186248435</td>\n",
       "      <td>0</td>\n",
       "      <td>41</td>\n",
       "      <td>2.0</td>\n",
       "    </tr>\n",
       "    <tr>\n",
       "      <th>PreviousCancellations</th>\n",
       "      <td>79330</td>\n",
       "      <td>0.07974284633808143</td>\n",
       "      <td>0.41547221430867254</td>\n",
       "      <td>0</td>\n",
       "      <td>21</td>\n",
       "      <td>0.0</td>\n",
       "    </tr>\n",
       "    <tr>\n",
       "      <th>DaysInWaitingList</th>\n",
       "      <td>79330</td>\n",
       "      <td>3.2267742342115215</td>\n",
       "      <td>20.87088999616491</td>\n",
       "      <td>0</td>\n",
       "      <td>391</td>\n",
       "      <td>0.0</td>\n",
       "    </tr>\n",
       "    <tr>\n",
       "      <th>TotalOfSpecialRequests</th>\n",
       "      <td>79330</td>\n",
       "      <td>0.546917937728476</td>\n",
       "      <td>0.7807762224113686</td>\n",
       "      <td>0</td>\n",
       "      <td>5</td>\n",
       "      <td>0.0</td>\n",
       "    </tr>\n",
       "    <tr>\n",
       "      <th>Babies</th>\n",
       "      <td>79330</td>\n",
       "      <td>0.0049413840917685616</td>\n",
       "      <td>0.08432334146198825</td>\n",
       "      <td>0</td>\n",
       "      <td>10</td>\n",
       "      <td>0.0</td>\n",
       "    </tr>\n",
       "    <tr>\n",
       "      <th>RequiredCarParkingSpaces</th>\n",
       "      <td>79330</td>\n",
       "      <td>0.024366570023950585</td>\n",
       "      <td>0.15491947299616668</td>\n",
       "      <td>0</td>\n",
       "      <td>3</td>\n",
       "      <td>0.0</td>\n",
       "    </tr>\n",
       "  </tbody>\n",
       "</table>\n",
       "</div>"
      ],
      "text/plain": [
       "                             count                   mean  \\\n",
       "StaysInWeekendNights         79330     0.7951846716248582   \n",
       "ADR                          79330      105.3044653977023   \n",
       "Adults                       79330     1.8509769318038574   \n",
       "Children                     79330    0.09136979048483473   \n",
       "PreviousBookingsNotCanceled  79330    0.13237110802974916   \n",
       "LeadTime                     79330     109.73572419009201   \n",
       "StaysInWeekNights            79330     2.1829572671120636   \n",
       "PreviousCancellations        79330    0.07974284633808143   \n",
       "DaysInWaitingList            79330     3.2267742342115215   \n",
       "TotalOfSpecialRequests       79330      0.546917937728476   \n",
       "Babies                       79330  0.0049413840917685616   \n",
       "RequiredCarParkingSpaces     79330   0.024366570023950585   \n",
       "\n",
       "                                          stddev  min     max  median  \n",
       "StaysInWeekendNights          0.8850263827567242    0      16     1.0  \n",
       "ADR                            43.60295383709472  0.0  5400.0    99.9  \n",
       "Adults                        0.5092923075822537    0       4     2.0  \n",
       "Children                     0.37217686997893606    0      NA     0.0  \n",
       "PreviousBookingsNotCanceled   1.6934106009564729    0      72     0.0  \n",
       "LeadTime                      110.94852576365864    0     629    74.0  \n",
       "StaysInWeekNights              1.456416186248435    0      41     2.0  \n",
       "PreviousCancellations        0.41547221430867254    0      21     0.0  \n",
       "DaysInWaitingList              20.87088999616491    0     391     0.0  \n",
       "TotalOfSpecialRequests        0.7807762224113686    0       5     0.0  \n",
       "Babies                       0.08432334146198825    0      10     0.0  \n",
       "RequiredCarParkingSpaces     0.15491947299616668    0       3     0.0  "
      ]
     },
     "metadata": {},
     "output_type": "display_data"
    }
   ],
   "source": [
    "## combine with describe() results\n",
    "df_desc_ext_h1 = pd.merge(\n",
    "    df_desc_h1,\n",
    "    df_median_h1,\n",
    "    left_index = True,\n",
    "    right_index = True\n",
    ")\n",
    "\n",
    "df_desc_ext_h2 = pd.merge(\n",
    "    df_desc_h2,\n",
    "    df_median_h2,\n",
    "    left_index = True,\n",
    "    right_index = True\n",
    ")\n",
    "\n",
    "display(df_desc_ext_h1)\n",
    "display(df_desc_ext_h2)"
   ]
  },
  {
   "cell_type": "code",
   "execution_count": null,
   "metadata": {},
   "outputs": [],
   "source": []
  },
  {
   "cell_type": "markdown",
   "metadata": {},
   "source": [
    "## 2.3. Data Exploration\n",
    "\n",
    "### Distribution by reservation status"
   ]
  },
  {
   "cell_type": "code",
   "execution_count": 82,
   "metadata": {},
   "outputs": [
    {
     "data": {
      "image/png": "[encoded data removed]",
      "text/plain": [
       "<Figure size 1152x288 with 2 Axes>"
      ]
     },
     "metadata": {
      "needs_background": "light"
     },
     "output_type": "display_data"
    }
   ],
   "source": [
    "h1_resv_status = df_h1.groupBy('ReservationStatus').count().orderBy('count').toPandas()\n",
    "h1_resv_status['pct'] = h1_resv_status['count'] / h1_resv_status['count'].sum()\n",
    "\n",
    "h2_resv_status = df_h2.groupBy('ReservationStatus').count().orderBy('count').toPandas()\n",
    "h2_resv_status['pct'] = h2_resv_status['count'] / h2_resv_status['count'].sum()\n",
    "\n",
    "f, ax = plt.subplots(figsize = (16, 4), ncols = 2)\n",
    "plt.subplots_adjust(wspace = .25)\n",
    "\n",
    "sns.barplot(\n",
    "    data = h1_resv_status,\n",
    "    y = 'ReservationStatus',\n",
    "    x = 'pct',\n",
    "    orient = 'h',\n",
    "    color = 'navy',\n",
    "    ax = ax[0]\n",
    ")\n",
    "ax[0].set_title('Resort hotels (H1)')\n",
    "ax[0].xaxis.set_major_formatter(mtick.PercentFormatter(1.0))\n",
    "\n",
    "sns.barplot(\n",
    "    data = h2_resv_status,\n",
    "    y = 'ReservationStatus',\n",
    "    x = 'pct',\n",
    "    orient = 'h',\n",
    "    color = 'navy',\n",
    "    ax = ax[1]\n",
    ")\n",
    "ax[1].set_title('City hotels (H2)')\n",
    "ax[1].xaxis.set_major_formatter(mtick.PercentFormatter(1.0))\n",
    "ax[1].set_ylabel('')\n",
    "\n",
    "sns.despine();"
   ]
  },
  {
   "cell_type": "code",
   "execution_count": 12,
   "metadata": {},
   "outputs": [],
   "source": [
    "del h1_resv_status, h2_resv_status"
   ]
  },
  {
   "cell_type": "markdown",
   "metadata": {},
   "source": [
    "### Distribution by country"
   ]
  },
  {
   "cell_type": "code",
   "execution_count": 84,
   "metadata": {},
   "outputs": [
    {
     "data": {
      "image/png": "[encoded data removed]",
      "text/plain": [
       "<Figure size 1152x432 with 2 Axes>"
      ]
     },
     "metadata": {
      "needs_background": "light"
     },
     "output_type": "display_data"
    }
   ],
   "source": [
    "h1_country = df_h1.groupBy('Country').count().orderBy('count', ascending = False).toPandas()\n",
    "h1_country['pct'] = h1_country['count'] / h1_country['count'].sum()\n",
    "\n",
    "h2_country = df_h2.groupBy('Country').count().orderBy('count', ascending = False).toPandas()\n",
    "h2_country['pct'] = h2_country['count'] / h2_country['count'].sum()\n",
    "\n",
    "n = 20\n",
    "f, ax = plt.subplots(figsize = (16, 6), ncols = 2)\n",
    "plt.subplots_adjust(wspace = .25)\n",
    "\n",
    "sns.barplot(\n",
    "    data = h1_country.head(n),\n",
    "    y = 'Country',\n",
    "    x = 'pct',\n",
    "    orient = 'h',\n",
    "    color = 'navy',\n",
    "    ax = ax[0]\n",
    ")\n",
    "ax[0].set_title('Resort hotels (H1)')\n",
    "ax[0].xaxis.set_major_formatter(mtick.PercentFormatter(1.0))\n",
    "\n",
    "sns.barplot(\n",
    "    data = h2_country.head(n),\n",
    "    y = 'Country',\n",
    "    x = 'pct',\n",
    "    orient = 'h',\n",
    "    color = 'navy',\n",
    "    ax = ax[1]\n",
    ")\n",
    "ax[1].set_title('City hotels (H2)')\n",
    "ax[1].xaxis.set_major_formatter(mtick.PercentFormatter(1.0))\n",
    "ax[1].set_ylabel('')\n",
    "\n",
    "sns.despine();"
   ]
  },
  {
   "cell_type": "markdown",
   "metadata": {},
   "source": [
    "### Cancelled bookings by week of year"
   ]
  },
  {
   "cell_type": "code",
   "execution_count": 85,
   "metadata": {},
   "outputs": [
    {
     "data": {
      "image/png": "[encoded data removed]",
      "text/plain": [
       "<Figure size 1152x288 with 2 Axes>"
      ]
     },
     "metadata": {
      "needs_background": "light"
     },
     "output_type": "display_data"
    }
   ],
   "source": [
    "f, ax = plt.subplots(figsize = (16,4), ncols = 2)\n",
    "plt.subplots_adjust(wspace = .25)\n",
    "\n",
    "sns.histplot(\n",
    "    df_h1.filter('IsCanceled == 1').select('ArrivalDateWeekNumber').toPandas()['ArrivalDateWeekNumber'],\n",
    "    stat = 'density',\n",
    "    kde = True,\n",
    "    ax = ax[0]\n",
    ");\n",
    "\n",
    "sns.histplot(\n",
    "    df_h2.filter('IsCanceled == 1').select('ArrivalDateWeekNumber').toPandas()['ArrivalDateWeekNumber'],\n",
    "    stat = 'density',\n",
    "    kde = True,\n",
    "    ax = ax[1]\n",
    ");\n",
    "\n",
    "ax[0].set_title(\"Resort hotels (H1)\")\n",
    "ax[1].set_title(\"City hotels (H2)\")\n",
    "ax[0].set_ylabel('density')\n",
    "ax[1].set_ylabel('density')\n",
    "sns.despine();"
   ]
  },
  {
   "cell_type": "markdown",
   "metadata": {},
   "source": [
    "### Cancelled bookings by day of month"
   ]
  },
  {
   "cell_type": "code",
   "execution_count": 86,
   "metadata": {},
   "outputs": [
    {
     "data": {
      "image/png": "[encoded data removed]",
      "text/plain": [
       "<Figure size 1152x288 with 2 Axes>"
      ]
     },
     "metadata": {
      "needs_background": "light"
     },
     "output_type": "display_data"
    }
   ],
   "source": [
    "f, ax = plt.subplots(figsize = (16,4), ncols = 2)\n",
    "plt.subplots_adjust(wspace = .25)\n",
    "\n",
    "sns.kdeplot(\n",
    "    df_h1.filter('IsCanceled == 1').select('ArrivalDateDayOfMonth').toPandas()['ArrivalDateDayOfMonth'],\n",
    "    ax = ax[0]\n",
    ");\n",
    "\n",
    "sns.kdeplot(\n",
    "    df_h2.filter('IsCanceled == 1').select('ArrivalDateDayOfMonth').toPandas()['ArrivalDateDayOfMonth'],\n",
    "    ax = ax[1]\n",
    ");\n",
    "\n",
    "ax[0].set_title(\"Resort hotels (H1)\")\n",
    "ax[1].set_title(\"City hotels (H2)\")\n",
    "ax[0].set_ylabel('density')\n",
    "ax[1].set_ylabel('density')\n",
    "sns.despine();"
   ]
  },
  {
   "cell_type": "markdown",
   "metadata": {},
   "source": [
    "### ADR \n",
    "\n",
    "#### ADR based on cancellation status\n",
    "\n",
    "H2 dataset has a record with extremely high ADR."
   ]
  },
  {
   "cell_type": "code",
   "execution_count": null,
   "metadata": {},
   "outputs": [],
   "source": [
    "sns.box"
   ]
  },
  {
   "cell_type": "code",
   "execution_count": 87,
   "metadata": {},
   "outputs": [
    {
     "data": {
      "image/png": "[encoded data removed]",
      "text/plain": [
       "<Figure size 1152x288 with 2 Axes>"
      ]
     },
     "metadata": {
      "needs_background": "light"
     },
     "output_type": "display_data"
    }
   ],
   "source": [
    "f, ax = plt.subplots(figsize = (16,4), ncols = 2)\n",
    "plt.subplots_adjust(wspace = .25)\n",
    "\n",
    "sns.kdeplot(\n",
    "    data = df_h1.select(['IsCanceled','ADR']).toPandas(),\n",
    "    x = 'ADR',\n",
    "    hue = 'IsCanceled',\n",
    "    ax = ax[0]\n",
    ")\n",
    "ax[0].set_ylabel(\"density\")\n",
    "ax[0].set_title(\"City hotels (H2)\")\n",
    "\n",
    "sns.kdeplot(\n",
    "    data = df_h2.select(['IsCanceled','ADR']).toPandas(),\n",
    "    x = 'ADR',\n",
    "    hue = 'IsCanceled',\n",
    "    ax = ax[1]\n",
    ")\n",
    "\n",
    "ax[1].set_ylabel(\"density\")\n",
    "ax[1].set_title(\"City hotels (H2)\")\n",
    "sns.despine();"
   ]
  },
  {
   "cell_type": "markdown",
   "metadata": {},
   "source": [
    "#### ADR by distribution channel\n",
    "\n",
    "An outlier is found on TA/TO distribution channel."
   ]
  },
  {
   "cell_type": "code",
   "execution_count": null,
   "metadata": {},
   "outputs": [],
   "source": []
  },
  {
   "cell_type": "markdown",
   "metadata": {},
   "source": [
    "### Lead Time\n",
    "\n",
    "#### Lead Time by Cancellation Status"
   ]
  },
  {
   "cell_type": "code",
   "execution_count": null,
   "metadata": {},
   "outputs": [],
   "source": []
  },
  {
   "cell_type": "markdown",
   "metadata": {},
   "source": [
    "#### Lead Time by Distribution Channel\n",
    "\n",
    "Cancelled reservations tend to have a longer lead time. TA/TO has a wider lead time range compared to other distribution channels."
   ]
  },
  {
   "cell_type": "code",
   "execution_count": null,
   "metadata": {},
   "outputs": [],
   "source": []
  },
  {
   "cell_type": "markdown",
   "metadata": {},
   "source": [
    "#### ADR, LeadTime, DaysInWaitingList by distribution channel and market segment"
   ]
  },
  {
   "cell_type": "code",
   "execution_count": 16,
   "metadata": {},
   "outputs": [
    {
     "name": "stdout",
     "output_type": "stream",
     "text": [
      "+-------------------+-------------+--------------------+------------------+--------------------+--------------------------+--------------------------+-------------------------+----------------------+------------------+--------------------+--------------------+--------------------+--------------------------+--------------------------------+-------------------+----------------------+------------------+-----------------------------+---------------------------+\n",
      "|DistributionChannel|MarketSegment|     avg(IsCanceled)|     avg(LeadTime)|avg(ArrivalDateYear)|avg(ArrivalDateWeekNumber)|avg(ArrivalDateDayOfMonth)|avg(StaysInWeekendNights)|avg(StaysInWeekNights)|       avg(Adults)|       avg(Children)|         avg(Babies)|avg(IsRepeatedGuest)|avg(PreviousCancellations)|avg(PreviousBookingsNotCanceled)|avg(BookingChanges)|avg(DaysInWaitingList)|          avg(ADR)|avg(RequiredCarParkingSpaces)|avg(TotalOfSpecialRequests)|\n",
      "+-------------------+-------------+--------------------+------------------+--------------------+--------------------------+--------------------------+-------------------------+----------------------+------------------+--------------------+--------------------+--------------------+--------------------------+--------------------------------+-------------------+----------------------+------------------+-----------------------------+---------------------------+\n",
      "|          Corporate|Complementary|                0.15|             21.75|              2016.0|                      35.1|                     16.95|                     0.95|                   2.6|               1.4|                 0.0|                 0.0|                0.15|                      0.05|                            0.55|               1.05|                   0.2|              2.62|                          0.2|                       0.55|\n",
      "|          Corporate|    Online TA|                 0.0|27.363636363636363|  2016.3636363636363|         32.36363636363637|         17.09090909090909|       0.5454545454545454|    0.6363636363636364|1.6363636363636365|                 0.0|                 0.0|  0.5454545454545454|                       0.0|              1.1818181818181819|0.09090909090909091|                   0.0|63.959090909090904|          0.18181818181818182|                        1.0|\n",
      "|              TA/TO|    Online TA| 0.35383481662037297| 83.40167790941557|  2016.1997619182587|         27.42996428773879|         16.00187064225384|       1.1754435689586757|     3.046312567314778|1.9354911853069554| 0.20418343631313418|0.013888101581542996| 0.01779944447593674|      0.010316875460574797|              0.0342384218581713|0.22436369820304972|                   0.0|113.52341420554386|          0.15101184740094098|         0.9535173742985091|\n",
      "|              TA/TO|    Corporate|0.024390243902439025|22.536585365853657|  2016.7073170731708|          23.4390243902439|         20.21951219512195|      0.24390243902439024|    1.3170731707317074|1.1219512195121952| 0.04878048780487805|                 0.0|  0.4634146341463415|      0.024390243902439025|               2.292682926829268| 0.5121951219512195|                   0.0| 70.15439024390244|           0.1951219512195122|         0.5121951219512195|\n",
      "|             Direct|Offline TA/TO|                 0.2|              65.1|              2015.9|                      30.0|                      14.5|                      1.0|                   1.9|               1.6|                 0.0|                 0.0|                 0.5|                       0.0|                             1.0|                0.3|                   0.0|            79.263|                          0.2|                        0.0|\n",
      "|              TA/TO|       Groups| 0.48269068392907405| 174.1781593019983|  2016.1432592175627|          24.3343653250774|        14.350126653532227|       1.1550802139037433|    3.0256121587390936|1.8452012383900929|0.005629045876723895|5.629045876723895E-4|0.013228257810301155|       0.39347030678300027|              0.0053475935828877| 0.3397129186602871|    2.7236138474528566| 66.03669293554705|          0.02082746974387841|        0.07880664227413453|\n",
      "|          Corporate|Offline TA/TO|                 0.0|17.285714285714285|  2016.2857142857142|         32.57142857142857|        13.785714285714286|       0.2857142857142857|    1.2142857142857142|1.2142857142857142|                 0.0|                 0.0|                 0.5|                       0.0|              1.0714285714285714|                0.5|                   0.0| 44.17857142857143|          0.14285714285714285|         0.2857142857142857|\n",
      "|          Corporate|    Corporate| 0.15520446096654275|17.391263940520446|  2016.0599442379182|         26.21468401486989|        15.482342007434944|       0.5013940520446096|    1.8824349442379182|1.2476765799256506| 0.01486988847583643|0.001858736059479...| 0.23605947955390336|       0.08271375464684015|              1.4400557620817844| 0.3406133828996282|    0.0887546468401487| 50.66781133828992|            0.129182156133829|         0.1524163568773234|\n",
      "|          Undefined|       Direct|                 0.0|             103.0|              2015.0|                      28.0|                       5.0|                      2.0|                   3.0|               2.0|                 1.0|                 0.0|                 0.0|                       0.0|                             0.0|                0.0|                   0.0|             112.7|                          1.0|                        2.0|\n",
      "|          Corporate|       Direct| 0.08333333333333333|16.023809523809526|  2016.3214285714287|        25.583333333333332|         16.19047619047619|      0.36904761904761907|    1.1785714285714286|1.3452380952380953|                 0.0|0.011904761904761904| 0.36904761904761907|       0.17857142857142858|              3.2261904761904763|               0.25|    1.4523809523809523| 59.16035714285714|          0.36904761904761907|                       0.25|\n",
      "|             Direct|    Online TA| 0.07792207792207792|61.311688311688314|  2016.5714285714287|        25.324675324675326|         18.87012987012987|       0.7402597402597403|    1.9610389610389611|1.6493506493506493| 0.15584415584415584|                 0.0|  0.5844155844155844|       0.36363636363636365|               2.324675324675325| 0.6363636363636364|                   0.0| 99.66675324675327|           0.2727272727272727|         1.7532467532467533|\n",
      "|             Direct|       Groups|  0.3204633204633205| 153.4061776061776|  2015.9490347490348|         26.25945945945946|        17.877220077220077|       0.8872586872586873|    3.0594594594594593|1.7297297297297298|0.003861003861003861|0.002316602316602...|0.009266409266409266|      0.018532818532818532|            0.019305019305019305|0.45791505791505793|     6.698841698841699| 72.87418532818535|          0.07027027027027027|        0.06872586872586872|\n",
      "|             Direct|       Direct| 0.13840719332048812| 48.90976236351959|  2016.1218689788054|        26.402215799614645|         16.04640333975594|       0.9531149646756584|    2.6099871547848426| 1.926621708413616| 0.17341040462427745|0.027617212588310854| 0.07530507385998715|      0.012363519588953115|             0.16698779704560052| 0.4317597944765575|  0.051059730250481696|112.42762202954356|          0.25979447655748233|         0.5696852922286448|\n",
      "|          Corporate|       Groups|  0.3481781376518219|160.26417004048582|    2015.92004048583|        32.526315789473685|        14.968623481781377|       0.9777327935222672|     2.804655870445344|1.7388663967611335|0.010121457489878543|0.005060728744939271|0.010121457489878543|        0.9261133603238867|             0.02125506072874494|  0.659919028340081|   0.39271255060728744| 59.49801619433195|          0.11234817813765183|       0.058704453441295545|\n",
      "|             Direct|    Corporate| 0.13793103448275862|20.879310344827587|  2016.1293103448277|        25.163793103448278|        14.741379310344827|       0.3448275862068966|    1.4137931034482758|1.3189655172413792|0.017241379310344827|0.008620689655172414| 0.29310344827586204|       0.09482758620689655|              0.8017241379310345|0.20689655172413793|                   0.0|  61.6028448275862|          0.23275862068965517|        0.12931034482758622|\n",
      "|              TA/TO|       Direct|               0.045|            47.725|            2016.465|                    22.835|                     15.34|                    0.755|                 1.995|              1.88|               0.115|               0.005|               0.525|                      0.03|                           0.635|              0.295|                   0.0|          110.1539|                         0.28|                       1.18|\n",
      "|              TA/TO|Complementary| 0.14285714285714285|24.166666666666668|  2016.3333333333333|        23.428571428571427|        15.880952380952381|                      0.5|    1.7857142857142858| 1.380952380952381|0.047619047619047616|                 0.0| 0.14285714285714285|                       0.0|              0.2619047619047619|0.38095238095238093|                   0.0| 4.423571428571429|          0.11904761904761904|                        1.0|\n",
      "|              TA/TO|Offline TA/TO| 0.15252416756176154|120.72073039742213|  2015.9789205155746|        28.248523093447904|        15.697771213748657|       1.7838345864661653|     4.371643394199785|1.9158163265306123|  0.0473952738990333|0.015977443609022556| 0.01987110633727175|         0.166219119226638|             0.02994092373791622|0.19078947368421054|    0.2372448979591837| 74.71369495166525|          0.06740064446831365|         0.4167561761546724|\n",
      "|             Direct|Complementary| 0.17266187050359713|18.510791366906474|  2016.1294964028777|        29.892086330935253|         17.66187050359712|      0.41007194244604317|    1.4964028776978417|1.6762589928057554| 0.07913669064748201| 0.02877697841726619| 0.06474820143884892|      0.007194244604316547|             0.08633093525179857|0.43884892086330934|                   0.0| 3.575179856115108|           0.2446043165467626|         0.7338129496402878|\n",
      "+-------------------+-------------+--------------------+------------------+--------------------+--------------------------+--------------------------+-------------------------+----------------------+------------------+--------------------+--------------------+--------------------+--------------------------+--------------------------------+-------------------+----------------------+------------------+-----------------------------+---------------------------+\n",
      "\n"
     ]
    }
   ],
   "source": [
    "# df_h1.groupBy(['DistributionChannel','MarketSegment']).describe().show()\n",
    "# df_h1.groupBy(['DistributionChannel','MarketSegment']).mean().show()\n",
    "\n",
    "# import pyspark.sql.functions as F\n",
    "\n",
    "# df_h1.agg(\n",
    "#     F.expr('percentile_approx(val, 0.5)')\n",
    "# )"
   ]
  },
  {
   "cell_type": "markdown",
   "metadata": {},
   "source": [
    "### Correlation of numeric values"
   ]
  },
  {
   "cell_type": "code",
   "execution_count": null,
   "metadata": {},
   "outputs": [],
   "source": []
  },
  {
   "cell_type": "markdown",
   "metadata": {},
   "source": [
    "### Distribution of numeric values"
   ]
  },
  {
   "cell_type": "code",
   "execution_count": null,
   "metadata": {},
   "outputs": [],
   "source": []
  },
  {
   "cell_type": "markdown",
   "metadata": {},
   "source": [
    "## 2.4. Data Quality Assessment\n",
    "\n",
    "### 2.4.1. Inconsistent coding scheme\n",
    "\n",
    "At a glance, there is no inconsistent coding scheme in both datasets. However, actually the Undefined Meal value refers to the same meaning of SC (refer to the metadata explanation). We'll sort them out on the Data Cleaning part."
   ]
  },
  {
   "cell_type": "code",
   "execution_count": null,
   "metadata": {},
   "outputs": [],
   "source": []
  },
  {
   "cell_type": "markdown",
   "metadata": {},
   "source": [
    "### 2.4.2. Data error: extreme values and outliers\n",
    "\n",
    "Assumption: outliers if values are:\n",
    "\n",
    "- $< Q1 - 1.5 * IQR$, or \n",
    "- $> Q3 + 1.5 * IQR$"
   ]
  },
  {
   "cell_type": "code",
   "execution_count": 9,
   "metadata": {},
   "outputs": [],
   "source": [
    "def check_outliers(series):\n",
    "    \"\"\"\n",
    "    Return number of outliers in the series.\n",
    "    Outliers: if < Q1 - 1.5*IQR or > Q3 + 1.5*IQR\n",
    "    \"\"\"\n",
    "    q1, q3 = np.percentile(series, q=[25, 75])\n",
    "    iqr = q3 - q1\n",
    "    lower_threshold = q1 - (1.5 * iqr)\n",
    "    upper_threshold = q3 + (1.5 * iqr)\n",
    "    conditions = [\n",
    "        (series < lower_threshold) | (series > upper_threshold)\n",
    "    ]\n",
    "    choice = [1]\n",
    "    outliers_flag = np.select(conditions, choice, default = 0)\n",
    "    return sum(outliers_flag)"
   ]
  },
  {
   "cell_type": "code",
   "execution_count": null,
   "metadata": {},
   "outputs": [],
   "source": []
  },
  {
   "cell_type": "markdown",
   "metadata": {},
   "source": [
    "### 2.4.3. Missing values"
   ]
  },
  {
   "cell_type": "code",
   "execution_count": null,
   "metadata": {},
   "outputs": [],
   "source": []
  }
 ],
 "metadata": {
  "kernelspec": {
   "display_name": "pykernel",
   "language": "python",
   "name": "pykernel"
  },
  "language_info": {
   "codemirror_mode": {
    "name": "ipython",
    "version": 3
   },
   "file_extension": ".py",
   "mimetype": "text/x-python",
   "name": "python",
   "nbconvert_exporter": "python",
   "pygments_lexer": "ipython3",
   "version": "3.8.3"
  }
 },
 "nbformat": 4,
 "nbformat_minor": 2
}
